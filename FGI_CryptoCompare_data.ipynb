{
 "cells": [
  {
   "cell_type": "code",
   "execution_count": 3,
   "metadata": {},
   "outputs": [],
   "source": [
    "import requests\n",
    "import json\n",
    "import pandas as pd\n",
    "from textblob import TextBlob\n",
    "import re\n",
    "import time\n",
    "import datetime\n",
    "import numpy as np"
   ]
  },
  {
   "cell_type": "markdown",
   "metadata": {},
   "source": [
    "## Getting frear greed index data"
   ]
  },
  {
   "cell_type": "code",
   "execution_count": 22,
   "metadata": {},
   "outputs": [],
   "source": [
    "fgi_page = requests.get('https://api.alternative.me/fng/?limit=10')\n",
    "fgi = pd.DataFrame(json.loads(fgi_page.content)['data'])\n",
    "fgi.to_csv('fear_greed_index.csv')"
   ]
  },
  {
   "cell_type": "markdown",
   "metadata": {},
   "source": [
    "## Crypto Compare api"
   ]
  },
  {
   "cell_type": "code",
   "execution_count": 2,
   "metadata": {},
   "outputs": [
    {
     "data": {
      "text/plain": [
       "Index(['body', 'categories', 'downvotes', 'guid', 'id', 'imageurl', 'lang',\n",
       "       'published_on', 'source', 'source_info', 'tags', 'title', 'upvotes',\n",
       "       'url'],\n",
       "      dtype='object')"
      ]
     },
     "execution_count": 2,
     "metadata": {},
     "output_type": "execute_result"
    }
   ],
   "source": [
    "news_page = requests.get('https://min-api.cryptocompare.com/data/v2/news/?lTs=1522540800&?lang=EN&api_key={610f1e801a5949e3e92544430ae21c7f2b72f9988a37cb6a64aa61566fe6eefd}')\n",
    "news = pd.DataFrame(json.loads(news_page.content)['Data'])\n",
    "news.columns\n"
   ]
  },
  {
   "cell_type": "code",
   "execution_count": 45,
   "metadata": {
    "collapsed": true
   },
   "outputs": [
    {
     "data": {
      "text/plain": [
       "0    A five-star Swiss hotel, the Dolder Grand, to take BTC payments in May, the Swiss stock exchange launches another crypto-based exchange-traded product On Tuesday, Inacta AG, the tech partner of the top Switzerland’s Dolder Grand...The post Swiss Crypto Hub: Five-Star Hotel to Accept BTC Payments, Stock Exchange SIX Lists XRP-Based ETP appeared first on Ethereum World News.\n",
       "1    The crypto market is growing, and the bears are losing strength to the point that many speak of a possible change of trend in the coming months. One phenomenon that raised optimism in the community...The post BNB To Reach 100X and XTZ Up To 10X, &#8220;The Don&#8221; Predicts appeared first on Ethereum World News.                                                            \n",
       "Name: body, dtype: object"
      ]
     },
     "execution_count": 45,
     "metadata": {},
     "output_type": "execute_result"
    }
   ],
   "source": [
    "#now i get the full content of body\n",
    "pd.set_option('display.max_colwidth', -1)\n",
    "news['body'].head(2)"
   ]
  },
  {
   "cell_type": "code",
   "execution_count": 8,
   "metadata": {
    "collapsed": true
   },
   "outputs": [
    {
     "name": "stdout",
     "output_type": "stream",
     "text": [
      "Cambodia’s Crypto Industry Marches Forward Despite Legal Grey Area\n",
      "Taking Cyber Security to the Next Level with R3Sec\n",
      "The Time to Stop Worrying About the Bitcoin Price is Right Now\n",
      "The Challenges Bitcoin Must Overcome to Become a Global Currency\n",
      "OmiseGo and Ethereum Founder Donate $1M to GiveDirectly\n",
      "5 Altcoins with Major Events the week of April 1, 2018 (Gains Likely to Beat Bitcoin Returns!)\n",
      "New ESMA Measures Impose 2:1 Restriction on Leverage for Crypto CFDs\n",
      "Bitcoin Price Watch: Bitcoin Endures a Small Rise\n",
      "IRS Investigations into Cryptocurrency Holders, a Positive Sign\n",
      "China May Follow Global Cryptocurrency Regulations, Central Bank Report Suggests\n",
      "Thai Finance Ministry Releases Final Version Of Cryptocurrency Tax Framework\n",
      "Hacking in Crypto: Cutting-Edge Cybersecurity Measures\n",
      "Kazakhstan Preparing to Prohibit Crypto Trading and Mining, Says Central Bank\n",
      "Corsair Campaigns Against Cryptocurrency Mining Rigs in April Fool’s Day Joke\n",
      "Kleros: The Justice Protocol, Announces Interactive Token Event\n",
      "Zeroedge.Bet Casino Launched Its Pre-ICO Round 2 and Offers 58% Bonus for a Very Limited Time!\n",
      "Ethereum Price Needs Stability at $400 to Avoid Dipping to $350\n",
      "Digipharm Announces Partnership with Swiss Blockchain Giant, Swisscom\n",
      "West Virginia Becomes First State to Use Blockchain Technology in Election\n",
      "Bitcoin Records 7% Increase as Cryptocurrency Market Rebounds From Yesterday’s Losses\n",
      "Stellar Price is Gaining Quickly but Bears Remain in Control\n",
      "Crypto Investors in Thailand Will Get Taxed\n",
      "ZeroEdge.Bet Casino Launched Its Pre-ICO Round 2 and Offers 58% Bonus for a Very Limited Time!\n",
      "Longfin Hopped on the Blockchain Hype Bandwagon and Will Soon Get Delisted\n",
      "Russians Owe 13% Tax on Their Crypto Incomes\n",
      "IC3 Warns About Mounting Tech Support Scam Complaints Regarding Cryptocurrency\n",
      "Major Russian Bank Looks To Pilot Crypto Transactions In Switzerland\n",
      "Bitcoin Futures the Beginning of a New Derivatives Class: Wedbush Securities Director\n",
      "Senno’s Sentiment Analysis Platform Enables Accurate Trend Prediction for Everyone\n",
      "Blockchain-based Messenger App ySign Announces TGE\n",
      "Next Brave Browser Update Enables Support for Popular Chrome Extensions\n",
      "ZeroEdge.Bet Casino Launched Its Pre-ICO Round 2 and Offers 58% Bonus for a Very Limited Time!\n",
      "A Lower Bitcoin Transaction Volume is a Sign of Maturity\n",
      "Green Easter\n",
      "Double-Bottom? ‘Substantial Funds’ Waiting for Crypto Collapse to Complete\n",
      "Turkish Imams Fired for Violating Fatwa Against Bitcoin Trading\n",
      "Crypto Still Tax Free in Korea but Regulators Have Set Timeframe for Taxation\n",
      "Bitcoin Magazine’s Week in Review: South Korea Rises, Cryptocurrencies Falter\n",
      "Slump Begone: What’s Next For Cryptocurrencies? Tokens & Purpose\n",
      "GMO Coin Exchange Announces new Measures to Comply With FSA Demands\n",
      "Telegram ICO Raises $1.7 Billion\n",
      "Wendy McElroy: How Centralized Exchanges Intend to Devastate You\n",
      "Self-Regulation May Help Legitimize the ICO Industry\n",
      "The 7 Biggest Mistakes ICO Marketers Make\n",
      "FBI Publishes PSA About Tech Support Fraud Targeting Cryptocurrency Holders\n",
      "Opinion: Bitcoin’s Biggest Problem Isn’t Child Porn, It’s GDPR\n",
      "Japan: Operator Of GMO Exchange Promises To Improve Data Security After Regulator Order\n",
      "Bitcoin is Making Currency Manipulation Difficult for Central Banks\n",
      "Ubcoin Market Can Make Anyone a Cryptocurrency Investor\n",
      "Safein Identity and Payments Platform Safein Announce Pre-Token Sale\n"
     ]
    }
   ],
   "source": [
    "for title in news.title:\n",
    "    print(title)"
   ]
  },
  {
   "cell_type": "markdown",
   "metadata": {},
   "source": [
    "## CryptoCompare sentiment data and analysis"
   ]
  },
  {
   "cell_type": "code",
   "execution_count": 61,
   "metadata": {},
   "outputs": [],
   "source": [
    "def clean_tweet(tweet): \n",
    "        ''' \n",
    "        Utility function to clean tweet text by removing links, special characters \n",
    "        using simple regex statements. \n",
    "        '''\n",
    "        return ' '.join(re.sub(\"(@[A-Za-z0-9]+)|([^0-9A-Za-z \\t])|(\\w+:\\/\\/\\S+)\", \" \", tweet).split()) \n",
    "\n",
    "def get_tweet_sentiment(tweet): \n",
    "    ''' \n",
    "    Utility function to classify sentiment of passed tweet \n",
    "    using textblob's sentiment method \n",
    "    '''\n",
    "    # create TextBlob object of passed tweet text \n",
    "    analysis = TextBlob(clean_tweet(tweet)) \n",
    "    # set sentiment \n",
    "    if analysis.sentiment.polarity > 0: \n",
    "        return 'positive'\n",
    "    elif analysis.sentiment.polarity == 0: \n",
    "        return 'neutral'\n",
    "    else: \n",
    "        return 'negative'\n",
    "\n",
    "def get_tweets(news): \n",
    "    ''' \n",
    "    Main function to fetch tweets and parse them. \n",
    "    '''\n",
    "    # empty list to store parsed tweets \n",
    "    result_news_content = [] \n",
    "    news = news\n",
    "\n",
    "    # parsing tweets one by one \n",
    "    for a_news_content,time in zip(news.news_content, news.published_on): \n",
    "        # empty dictionary to store required params of a tweet \n",
    "        parsed_news_content = {} \n",
    "\n",
    "        # saving text of tweet \n",
    "        parsed_news_content['full_news'] = a_news_content \n",
    "        # saving sentiment of tweet \n",
    "        parsed_news_content['sentiment'] = get_tweet_sentiment(a_news_content) \n",
    "        parsed_news_content['time'] = time\n",
    "        result_news_content.append(parsed_news_content)\n",
    "\n",
    "    return result_news_content \n"
   ]
  },
  {
   "cell_type": "code",
   "execution_count": 60,
   "metadata": {},
   "outputs": [
    {
     "name": "stdout",
     "output_type": "stream",
     "text": [
      "Zip:\n",
      "a1 b1\n",
      "a2 b2\n",
      "List:\n",
      "a1 b1\n",
      "a1 b2\n",
      "a2 b1\n",
      "a2 b2\n",
      "a3 b1\n",
      "a3 b2\n"
     ]
    }
   ],
   "source": [
    "a = ['a1', 'a2', 'a3']\n",
    "b = ['b1', 'b2']\n",
    "\n",
    "\n",
    "\n",
    "# will iterate 2 times,\n",
    "# the third value of a will not be used\n",
    "print(\"Zip:\")\n",
    "for x, y in zip(a, b):\n",
    "    print(x, y)\n",
    "\n",
    "# will iterate 6 times,\n",
    "# it will iterate over each b, for each a\n",
    "# producing a slightly different outpu\n",
    "print(\"List:\")\n",
    "for x, y in [(x,y) for x in a for y in b]:\n",
    "    print(x, y)"
   ]
  },
  {
   "cell_type": "markdown",
   "metadata": {},
   "source": [
    "## Getting more than 50 news "
   ]
  },
  {
   "cell_type": "code",
   "execution_count": 3,
   "metadata": {},
   "outputs": [],
   "source": [
    "def get_data(date):\n",
    "    \"\"\" Query the API for 2000 days historical price data starting from \"date\". \"\"\"\n",
    "    \n",
    "    api_key = '610f1e801a5949e3e92544430ae21c7f2b72f9988a37cb6a64aa61566fe6eefd'\n",
    "    url = 'https://min-api.cryptocompare.com/data/v2/news/?lTs={}&?lang=EN&api_key={}'.format(date,api_key)\n",
    "    news_page = requests.get(url)    \n",
    "    news_json = news_page.json()\n",
    "    return news_json\n",
    "\n",
    "\n",
    "def get_df(from_date, to_date):\n",
    "    \"\"\" Get historical price data between two dates. \"\"\"\n",
    "    date = to_date\n",
    "    holder = []\n",
    "    # While the earliest date returned is later than the earliest date requested, keep on querying the API\n",
    "    # and adding the results to a list. \n",
    "    while date > from_date:\n",
    "        data = get_data(date)\n",
    "        data_df = pd.DataFrame(data['Data'])\n",
    "        data_df['news_content'] = data_df['title'] + data_df['body']\n",
    "        holder.append(data_df)\n",
    "        date = data_df['published_on'].min()\n",
    "    # Join together all of the API queries in the list.    \n",
    "    df = pd.concat(holder, axis = 0)                    \n",
    "    # Remove data points from before from_date\n",
    "    df = df[df['published_on']>from_date]                       \n",
    "    # Convert to timestamp to readable date format\n",
    "    df['time'] = pd.to_datetime(df['published_on'], unit='s')   \n",
    "    # Make the DataFrame index the time\n",
    "    df.set_index('time', inplace=True)                  \n",
    "    # And sort it so its in time order \n",
    "    df.sort_index(ascending=False, inplace=True)        \n",
    "    return df"
   ]
  },
  {
   "cell_type": "code",
   "execution_count": 21,
   "metadata": {},
   "outputs": [],
   "source": [
    "from_date = int(datetime.date(2017,1,1).strftime(\"%s\")) # 2017 01 01 00:00:00\n",
    "to_date = int(datetime.date(2019,4,1).strftime(\"%s\")) # 2018 04 01 00:00:00\n",
    "all_news = get_df(from_date,to_date)\n"
   ]
  },
  {
   "cell_type": "code",
   "execution_count": 22,
   "metadata": {},
   "outputs": [
    {
     "data": {
      "text/plain": [
       "(89055, 15)"
      ]
     },
     "execution_count": 22,
     "metadata": {},
     "output_type": "execute_result"
    }
   ],
   "source": [
    "all_news.shape"
   ]
  },
  {
   "cell_type": "code",
   "execution_count": 24,
   "metadata": {},
   "outputs": [],
   "source": [
    "#save all news to csv\n",
    "all_news.to_csv('all_news.csv', encoding='utf-8', index=False)\n"
   ]
  },
  {
   "cell_type": "code",
   "execution_count": 62,
   "metadata": {},
   "outputs": [],
   "source": [
    "df_allllnesw = pd.read_csv('/Users/cx/Desktop/SFU/cmpt733/733project/TA/all_news.csv')\n",
    "df1 = df_allllnesw"
   ]
  },
  {
   "cell_type": "code",
   "execution_count": 63,
   "metadata": {},
   "outputs": [
    {
     "data": {
      "text/html": [
       "<div>\n",
       "<style scoped>\n",
       "    .dataframe tbody tr th:only-of-type {\n",
       "        vertical-align: middle;\n",
       "    }\n",
       "\n",
       "    .dataframe tbody tr th {\n",
       "        vertical-align: top;\n",
       "    }\n",
       "\n",
       "    .dataframe thead th {\n",
       "        text-align: right;\n",
       "    }\n",
       "</style>\n",
       "<table border=\"1\" class=\"dataframe\">\n",
       "  <thead>\n",
       "    <tr style=\"text-align: right;\">\n",
       "      <th></th>\n",
       "      <th>body</th>\n",
       "      <th>categories</th>\n",
       "      <th>downvotes</th>\n",
       "      <th>guid</th>\n",
       "      <th>id</th>\n",
       "      <th>imageurl</th>\n",
       "      <th>lang</th>\n",
       "      <th>published_on</th>\n",
       "      <th>source</th>\n",
       "      <th>source_info</th>\n",
       "      <th>tags</th>\n",
       "      <th>title</th>\n",
       "      <th>upvotes</th>\n",
       "      <th>url</th>\n",
       "      <th>news_content</th>\n",
       "    </tr>\n",
       "  </thead>\n",
       "  <tbody>\n",
       "    <tr>\n",
       "      <th>0</th>\n",
       "      <td>Blockchain technology has been absolutely revo...</td>\n",
       "      <td>Technology|Blockchain</td>\n",
       "      <td>0</td>\n",
       "      <td>http://www.cryptonewsz.com/?p=13460</td>\n",
       "      <td>1004583</td>\n",
       "      <td>https://images.cryptocompare.com/news/cryptone...</td>\n",
       "      <td>EN</td>\n",
       "      <td>1554101992</td>\n",
       "      <td>cryptonewsz</td>\n",
       "      <td>{'name': 'CryptoNewsZ', 'lang': 'EN', 'img': '...</td>\n",
       "      <td>Blockchain</td>\n",
       "      <td>UNICEF Uses Blockchain Technology to Provide I...</td>\n",
       "      <td>0</td>\n",
       "      <td>https://www.cryptonewsz.com/unicef-uses-blockc...</td>\n",
       "      <td>UNICEF Uses Blockchain Technology to Provide I...</td>\n",
       "    </tr>\n",
       "    <tr>\n",
       "      <th>1</th>\n",
       "      <td>Despite the 82 percent drop in the valuation o...</td>\n",
       "      <td>BTC|Trading|Market|Business</td>\n",
       "      <td>0</td>\n",
       "      <td>https://www.ccn.com/?p=172618</td>\n",
       "      <td>1004580</td>\n",
       "      <td>https://images.cryptocompare.com/news/ccn/c204...</td>\n",
       "      <td>EN</td>\n",
       "      <td>1554101991</td>\n",
       "      <td>ccn</td>\n",
       "      <td>{'name': 'CCN', 'lang': 'EN', 'img': 'https://...</td>\n",
       "      <td>Bitcoin Analysis|Bitcoin Price News|Crypto|New...</td>\n",
       "      <td>Bitcoin Price Could Blitz Beyond $150,000 Duri...</td>\n",
       "      <td>0</td>\n",
       "      <td>https://www.ccn.com/bitcoin-150000-2023-next-c...</td>\n",
       "      <td>Bitcoin Price Could Blitz Beyond $150,000 Duri...</td>\n",
       "    </tr>\n",
       "  </tbody>\n",
       "</table>\n",
       "</div>"
      ],
      "text/plain": [
       "                                                body  \\\n",
       "0  Blockchain technology has been absolutely revo...   \n",
       "1  Despite the 82 percent drop in the valuation o...   \n",
       "\n",
       "                    categories  downvotes  \\\n",
       "0        Technology|Blockchain          0   \n",
       "1  BTC|Trading|Market|Business          0   \n",
       "\n",
       "                                  guid       id  \\\n",
       "0  http://www.cryptonewsz.com/?p=13460  1004583   \n",
       "1        https://www.ccn.com/?p=172618  1004580   \n",
       "\n",
       "                                            imageurl lang  published_on  \\\n",
       "0  https://images.cryptocompare.com/news/cryptone...   EN    1554101992   \n",
       "1  https://images.cryptocompare.com/news/ccn/c204...   EN    1554101991   \n",
       "\n",
       "        source                                        source_info  \\\n",
       "0  cryptonewsz  {'name': 'CryptoNewsZ', 'lang': 'EN', 'img': '...   \n",
       "1          ccn  {'name': 'CCN', 'lang': 'EN', 'img': 'https://...   \n",
       "\n",
       "                                                tags  \\\n",
       "0                                         Blockchain   \n",
       "1  Bitcoin Analysis|Bitcoin Price News|Crypto|New...   \n",
       "\n",
       "                                               title  upvotes  \\\n",
       "0  UNICEF Uses Blockchain Technology to Provide I...        0   \n",
       "1  Bitcoin Price Could Blitz Beyond $150,000 Duri...        0   \n",
       "\n",
       "                                                 url  \\\n",
       "0  https://www.cryptonewsz.com/unicef-uses-blockc...   \n",
       "1  https://www.ccn.com/bitcoin-150000-2023-next-c...   \n",
       "\n",
       "                                        news_content  \n",
       "0  UNICEF Uses Blockchain Technology to Provide I...  \n",
       "1  Bitcoin Price Could Blitz Beyond $150,000 Duri...  "
      ]
     },
     "execution_count": 63,
     "metadata": {},
     "output_type": "execute_result"
    }
   ],
   "source": [
    "df1.head(2)"
   ]
  },
  {
   "cell_type": "code",
   "execution_count": 43,
   "metadata": {},
   "outputs": [
    {
     "ename": "NameError",
     "evalue": "name 'all_news' is not defined",
     "output_type": "error",
     "traceback": [
      "\u001b[0;31m---------------------------------------------------------------------------\u001b[0m",
      "\u001b[0;31mNameError\u001b[0m                                 Traceback (most recent call last)",
      "\u001b[0;32m<ipython-input-43-7e4761753ad6>\u001b[0m in \u001b[0;36m<module>\u001b[0;34m\u001b[0m\n\u001b[0;32m----> 1\u001b[0;31m \u001b[0mdf1\u001b[0m \u001b[0;34m=\u001b[0m \u001b[0mall_news\u001b[0m\u001b[0;34m\u001b[0m\u001b[0;34m\u001b[0m\u001b[0m\n\u001b[0m\u001b[1;32m      2\u001b[0m \u001b[0mdf1\u001b[0m \u001b[0;34m=\u001b[0m \u001b[0mdf1\u001b[0m\u001b[0;34m.\u001b[0m\u001b[0mreset_index\u001b[0m\u001b[0;34m(\u001b[0m\u001b[0;34m)\u001b[0m\u001b[0;34m\u001b[0m\u001b[0;34m\u001b[0m\u001b[0m\n\u001b[1;32m      3\u001b[0m \u001b[0mdf1\u001b[0m\u001b[0;34m.\u001b[0m\u001b[0mhead\u001b[0m\u001b[0;34m(\u001b[0m\u001b[0;36m2\u001b[0m\u001b[0;34m)\u001b[0m\u001b[0;34m\u001b[0m\u001b[0;34m\u001b[0m\u001b[0m\n",
      "\u001b[0;31mNameError\u001b[0m: name 'all_news' is not defined"
     ]
    }
   ],
   "source": [
    "df1 = all_news\n",
    "df1 = df1.reset_index()\n",
    "df1.head(2)"
   ]
  },
  {
   "cell_type": "code",
   "execution_count": 47,
   "metadata": {},
   "outputs": [
    {
     "ename": "ValueError",
     "evalue": "cannot insert level_0, already exists",
     "output_type": "error",
     "traceback": [
      "\u001b[0;31m---------------------------------------------------------------------------\u001b[0m",
      "\u001b[0;31mValueError\u001b[0m                                Traceback (most recent call last)",
      "\u001b[0;32m<ipython-input-47-5a91e381c27f>\u001b[0m in \u001b[0;36m<module>\u001b[0;34m\u001b[0m\n\u001b[0;32m----> 1\u001b[0;31m \u001b[0mdf1\u001b[0m \u001b[0;34m=\u001b[0m \u001b[0mdf1\u001b[0m\u001b[0;34m.\u001b[0m\u001b[0mreset_index\u001b[0m\u001b[0;34m(\u001b[0m\u001b[0;34m)\u001b[0m\u001b[0;34m\u001b[0m\u001b[0;34m\u001b[0m\u001b[0m\n\u001b[0m\u001b[1;32m      2\u001b[0m \u001b[0mdf1\u001b[0m\u001b[0;34m.\u001b[0m\u001b[0mhead\u001b[0m\u001b[0;34m(\u001b[0m\u001b[0;36m2\u001b[0m\u001b[0;34m)\u001b[0m\u001b[0;34m\u001b[0m\u001b[0;34m\u001b[0m\u001b[0m\n",
      "\u001b[0;32m~/anaconda3/lib/python3.7/site-packages/pandas/core/frame.py\u001b[0m in \u001b[0;36mreset_index\u001b[0;34m(self, level, drop, inplace, col_level, col_fill)\u001b[0m\n\u001b[1;32m   4137\u001b[0m                 \u001b[0;31m# to ndarray and maybe infer different dtype\u001b[0m\u001b[0;34m\u001b[0m\u001b[0;34m\u001b[0m\u001b[0;34m\u001b[0m\u001b[0m\n\u001b[1;32m   4138\u001b[0m                 \u001b[0mlevel_values\u001b[0m \u001b[0;34m=\u001b[0m \u001b[0m_maybe_casted_values\u001b[0m\u001b[0;34m(\u001b[0m\u001b[0mlev\u001b[0m\u001b[0;34m,\u001b[0m \u001b[0mlab\u001b[0m\u001b[0;34m)\u001b[0m\u001b[0;34m\u001b[0m\u001b[0;34m\u001b[0m\u001b[0m\n\u001b[0;32m-> 4139\u001b[0;31m                 \u001b[0mnew_obj\u001b[0m\u001b[0;34m.\u001b[0m\u001b[0minsert\u001b[0m\u001b[0;34m(\u001b[0m\u001b[0;36m0\u001b[0m\u001b[0;34m,\u001b[0m \u001b[0mname\u001b[0m\u001b[0;34m,\u001b[0m \u001b[0mlevel_values\u001b[0m\u001b[0;34m)\u001b[0m\u001b[0;34m\u001b[0m\u001b[0;34m\u001b[0m\u001b[0m\n\u001b[0m\u001b[1;32m   4140\u001b[0m \u001b[0;34m\u001b[0m\u001b[0m\n\u001b[1;32m   4141\u001b[0m         \u001b[0mnew_obj\u001b[0m\u001b[0;34m.\u001b[0m\u001b[0mindex\u001b[0m \u001b[0;34m=\u001b[0m \u001b[0mnew_index\u001b[0m\u001b[0;34m\u001b[0m\u001b[0;34m\u001b[0m\u001b[0m\n",
      "\u001b[0;32m~/anaconda3/lib/python3.7/site-packages/pandas/core/frame.py\u001b[0m in \u001b[0;36minsert\u001b[0;34m(self, loc, column, value, allow_duplicates)\u001b[0m\n\u001b[1;32m   3220\u001b[0m         \u001b[0mvalue\u001b[0m \u001b[0;34m=\u001b[0m \u001b[0mself\u001b[0m\u001b[0;34m.\u001b[0m\u001b[0m_sanitize_column\u001b[0m\u001b[0;34m(\u001b[0m\u001b[0mcolumn\u001b[0m\u001b[0;34m,\u001b[0m \u001b[0mvalue\u001b[0m\u001b[0;34m,\u001b[0m \u001b[0mbroadcast\u001b[0m\u001b[0;34m=\u001b[0m\u001b[0;32mFalse\u001b[0m\u001b[0;34m)\u001b[0m\u001b[0;34m\u001b[0m\u001b[0;34m\u001b[0m\u001b[0m\n\u001b[1;32m   3221\u001b[0m         self._data.insert(loc, column, value,\n\u001b[0;32m-> 3222\u001b[0;31m                           allow_duplicates=allow_duplicates)\n\u001b[0m\u001b[1;32m   3223\u001b[0m \u001b[0;34m\u001b[0m\u001b[0m\n\u001b[1;32m   3224\u001b[0m     \u001b[0;32mdef\u001b[0m \u001b[0massign\u001b[0m\u001b[0;34m(\u001b[0m\u001b[0mself\u001b[0m\u001b[0;34m,\u001b[0m \u001b[0;34m**\u001b[0m\u001b[0mkwargs\u001b[0m\u001b[0;34m)\u001b[0m\u001b[0;34m:\u001b[0m\u001b[0;34m\u001b[0m\u001b[0;34m\u001b[0m\u001b[0m\n",
      "\u001b[0;32m~/anaconda3/lib/python3.7/site-packages/pandas/core/internals.py\u001b[0m in \u001b[0;36minsert\u001b[0;34m(self, loc, item, value, allow_duplicates)\u001b[0m\n\u001b[1;32m   4336\u001b[0m         \u001b[0;32mif\u001b[0m \u001b[0;32mnot\u001b[0m \u001b[0mallow_duplicates\u001b[0m \u001b[0;32mand\u001b[0m \u001b[0mitem\u001b[0m \u001b[0;32min\u001b[0m \u001b[0mself\u001b[0m\u001b[0;34m.\u001b[0m\u001b[0mitems\u001b[0m\u001b[0;34m:\u001b[0m\u001b[0;34m\u001b[0m\u001b[0;34m\u001b[0m\u001b[0m\n\u001b[1;32m   4337\u001b[0m             \u001b[0;31m# Should this be a different kind of error??\u001b[0m\u001b[0;34m\u001b[0m\u001b[0;34m\u001b[0m\u001b[0;34m\u001b[0m\u001b[0m\n\u001b[0;32m-> 4338\u001b[0;31m             \u001b[0;32mraise\u001b[0m \u001b[0mValueError\u001b[0m\u001b[0;34m(\u001b[0m\u001b[0;34m'cannot insert {}, already exists'\u001b[0m\u001b[0;34m.\u001b[0m\u001b[0mformat\u001b[0m\u001b[0;34m(\u001b[0m\u001b[0mitem\u001b[0m\u001b[0;34m)\u001b[0m\u001b[0;34m)\u001b[0m\u001b[0;34m\u001b[0m\u001b[0;34m\u001b[0m\u001b[0m\n\u001b[0m\u001b[1;32m   4339\u001b[0m \u001b[0;34m\u001b[0m\u001b[0m\n\u001b[1;32m   4340\u001b[0m         \u001b[0;32mif\u001b[0m \u001b[0;32mnot\u001b[0m \u001b[0misinstance\u001b[0m\u001b[0;34m(\u001b[0m\u001b[0mloc\u001b[0m\u001b[0;34m,\u001b[0m \u001b[0mint\u001b[0m\u001b[0;34m)\u001b[0m\u001b[0;34m:\u001b[0m\u001b[0;34m\u001b[0m\u001b[0;34m\u001b[0m\u001b[0m\n",
      "\u001b[0;31mValueError\u001b[0m: cannot insert level_0, already exists"
     ]
    }
   ],
   "source": [
    "df1 = df1.reset_index()\n",
    "df1.head(2)"
   ]
  },
  {
   "cell_type": "code",
   "execution_count": 64,
   "metadata": {},
   "outputs": [
    {
     "name": "stdout",
     "output_type": "stream",
     "text": [
      "<class 'list'>\n",
      "89055\n"
     ]
    }
   ],
   "source": [
    "some_news = get_tweets(df1)\n",
    "print(type(some_news))\n",
    "some_news[0]\n",
    "print(len(some_news))\n"
   ]
  },
  {
   "cell_type": "code",
   "execution_count": 65,
   "metadata": {},
   "outputs": [
    {
     "data": {
      "text/plain": [
       "[{'full_news': 'Bitcoin Price Could Blitz Beyond $150,000 During Next Bull Cycle in 2023Despite the 82 percent drop in the valuation of the crypto market in the past year and the inability of bitcoin to recover beyond $4,000 in the past three months, one analyst sees the dominant cryptocurrency surpassing $150,000 by 2023. Josh Rager, a cryptocurrency technical analyst and investor, said that based on the price trend of bitcoin since 2011 and the pattern of bitcoin rebounding from a correction following an all-time high, he sees bitcoin achieving a new peak price in 2,051 days, by 2023. The next Bitcoin cycle should peak out in July 2023 and could reach a price The post Bitcoin Price Could Blitz Beyond $150,000 During Next Bull Cycle in 2023 appeared first on CCN',\n",
       "  'sentiment': 'positive',\n",
       "  'time': 1554101991},\n",
       " {'full_news': 'Dogecoin No Longer Worth 1 Doge1 doge now equals 2 doge thanks to a new hard fork. Dogecoin&#8217;s sole remaining active developer and lifelong devotee, Jackson Palmer, has announced an imminent hardfork to commence at...The post Dogecoin No Longer Worth 1 Doge appeared first on Trustnodes.',\n",
       "  'sentiment': 'positive',\n",
       "  'time': 1554101986},\n",
       " {'full_news': 'IOTA (MIOTA) Price Analysis: IOTA Can be the Biggest Factor to End Crypto WinterIOTA (MIOTA) is a distributed ledger designed with a directed acyclic graph (DAG) system with an aim to record and implement a transaction between machines. All the records are kept here on the Internet of Things (IoT) ecosystem. A non-profit organization designed IOTA with an aim to be the leader in the market with respect [&#8230;]The post IOTA (MIOTA) Price Analysis: IOTA Can be the Biggest Factor to End Crypto Winter appeared first on CryptoNewsZ.',\n",
       "  'sentiment': 'positive',\n",
       "  'time': 1554101344},\n",
       " {'full_news': 'SEC Drops the Bomb: Approves Bitcoin ETFs, Markets SkyrocketVanEck and Bitwise will be launching Bitcoin ETFs early next month following an emergency meeting the SEC held Saturday.',\n",
       "  'sentiment': 'negative',\n",
       "  'time': 1554100678},\n",
       " {'full_news': 'Litecoin Added as Nexo’s Newest Crypto Collateral OptionNexo users who keep their LTC in the system will have the opportunity to earn interest.',\n",
       "  'sentiment': 'neutral',\n",
       "  'time': 1554100505},\n",
       " {'full_news': 'Bitcoin (BTC) Price Could Make A Sustained Move HigherBitcoin price jumped higher recently and traded to a new weekly high above $4,140 against the US Dollar. The price traded as high as $4,142 and it is currently consolidating gains above key supports. There is a new contracting triangle forming with support near $4,100 on the hourly chart of the BTC/USD pair (data feed...The post Bitcoin (BTC) Price Could Make A Sustained Move Higher appeared first on NewsBTC.',\n",
       "  'sentiment': 'positive',\n",
       "  'time': 1554100252},\n",
       " {'full_news': 'Litecoin (LTC) Price Analysis: Significant Bullish Breakout LoomingLitecoin price is currently consolidating above $60.00 and $59.00 supports against the US Dollar. LTC could surge higher if it clears the $62.20 and $62.50 resistance levels in the near term. Key Talking Points Litecoin...The post Litecoin (LTC) Price Analysis: Significant Bullish Breakout Looming appeared first on Ethereum World News.',\n",
       "  'sentiment': 'positive',\n",
       "  'time': 1554099839},\n",
       " {'full_news': 'Cardano (ADA) Price Analysis: Cardano May Soon Reach the Highest Point of this YearCardano (ADA) is a blockchain platform which is built on the Haskell programming language. Its decentralized platform allows complex programmable value transfers securely, and the transfer is also scalable. Cardano (ADA) is the first blockchain platform which emerged out of scientific philosophy and a research-first driven approach. It has been developed by a fleet of [&#8230;]The post Cardano (ADA) Price Analysis: Cardano May Soon Reach the Highest Point of this Year appeared first on CryptoNewsZ.',\n",
       "  'sentiment': 'positive',\n",
       "  'time': 1554099783},\n",
       " {'full_news': 'Analyst Claims Bitcoin (BTC) At $10,000 Unlikely By Year’s End, BitMEX’s Hayes Begs To DifferBitcoin Options Traders Aren&#8217;t Too Optimistic Traders of Bitcoin (BTC) options contracts aren&#8217;t entirely optimistic, according to recently-compiled statistics. Per MarketWatch, who cited data from Skew&#8217;s Emmanuel Goh, while there has been more volume in...The post Analyst Claims Bitcoin (BTC) At $10,000 Unlikely By Year&#8217;s End, BitMEX&#8217;s Hayes Begs To Differ appeared first on Ethereum World News.',\n",
       "  'sentiment': 'negative',\n",
       "  'time': 1554099749}]"
      ]
     },
     "execution_count": 65,
     "metadata": {},
     "output_type": "execute_result"
    }
   ],
   "source": [
    "some_news[1:10]"
   ]
  },
  {
   "cell_type": "code",
   "execution_count": 72,
   "metadata": {},
   "outputs": [
    {
     "name": "stdout",
     "output_type": "stream",
     "text": [
      "Positive news percentage: 76.68744034585369 %\n",
      "Negative news percentage: 14.704396159676604 %\n",
      "Neutral news percentage: 8.608163494469709 %\n",
      "\n",
      "\n",
      "Positive news:\n",
      "UNICEF Uses Blockchain Technology to Provide Internet to Every School in KyrgyzstanBlockchain technology has been absolutely revolutionary across industries and sectors. Ever since it was launched way back in 2009, the tech has grown to become one of the best creations of the 21st Century. The innovative tech has now several sectors under its wings, right from agriculture to banking and finance. The technology has created [&#8230;]The post UNICEF Uses Blockchain Technology to Provide Internet to Every School in Kyrgyzstan appeared first on CryptoNewsZ.\n",
      "Bitcoin Price Could Blitz Beyond $150,000 During Next Bull Cycle in 2023Despite the 82 percent drop in the valuation of the crypto market in the past year and the inability of bitcoin to recover beyond $4,000 in the past three months, one analyst sees the dominant cryptocurrency surpassing $150,000 by 2023. Josh Rager, a cryptocurrency technical analyst and investor, said that based on the price trend of bitcoin since 2011 and the pattern of bitcoin rebounding from a correction following an all-time high, he sees bitcoin achieving a new peak price in 2,051 days, by 2023. The next Bitcoin cycle should peak out in July 2023 and could reach a price The post Bitcoin Price Could Blitz Beyond $150,000 During Next Bull Cycle in 2023 appeared first on CCN\n",
      "Dogecoin No Longer Worth 1 Doge1 doge now equals 2 doge thanks to a new hard fork. Dogecoin&#8217;s sole remaining active developer and lifelong devotee, Jackson Palmer, has announced an imminent hardfork to commence at...The post Dogecoin No Longer Worth 1 Doge appeared first on Trustnodes.\n",
      "IOTA (MIOTA) Price Analysis: IOTA Can be the Biggest Factor to End Crypto WinterIOTA (MIOTA) is a distributed ledger designed with a directed acyclic graph (DAG) system with an aim to record and implement a transaction between machines. All the records are kept here on the Internet of Things (IoT) ecosystem. A non-profit organization designed IOTA with an aim to be the leader in the market with respect [&#8230;]The post IOTA (MIOTA) Price Analysis: IOTA Can be the Biggest Factor to End Crypto Winter appeared first on CryptoNewsZ.\n",
      "Bitcoin (BTC) Price Could Make A Sustained Move HigherBitcoin price jumped higher recently and traded to a new weekly high above $4,140 against the US Dollar. The price traded as high as $4,142 and it is currently consolidating gains above key supports. There is a new contracting triangle forming with support near $4,100 on the hourly chart of the BTC/USD pair (data feed...The post Bitcoin (BTC) Price Could Make A Sustained Move Higher appeared first on NewsBTC.\n",
      "\n",
      "\n",
      "Negative news:\n",
      "SEC Drops the Bomb: Approves Bitcoin ETFs, Markets SkyrocketVanEck and Bitwise will be launching Bitcoin ETFs early next month following an emergency meeting the SEC held Saturday.\n",
      "Analyst Claims Bitcoin (BTC) At $10,000 Unlikely By Year’s End, BitMEX’s Hayes Begs To DifferBitcoin Options Traders Aren&#8217;t Too Optimistic Traders of Bitcoin (BTC) options contracts aren&#8217;t entirely optimistic, according to recently-compiled statistics. Per MarketWatch, who cited data from Skew&#8217;s Emmanuel Goh, while there has been more volume in...The post Analyst Claims Bitcoin (BTC) At $10,000 Unlikely By Year&#8217;s End, BitMEX&#8217;s Hayes Begs To Differ appeared first on Ethereum World News.\n",
      "Police Freeze Bank Accounts, Seize Luxury Cars in Probe of $22 Million ICO Promoter VanbexCanadian police have frozen assets of the founders of Vanbex, as part of a fraud probe into the firm's $22 million ICO.\n",
      "Report: ICOs Raised $118 Million in Q1 2019, Over 58 Times Less Than in Q1 2018Over 58 times less has been raised through ICOs in Q1 2019 than in Q1 2018\n",
      "Coinbase executive who revealed client data sale leaving firm for FidelityCoinbase, one of the leading cryptocurrency exchanges in the United States, was under the microscope of the entire cryptocurrency space when reports emerged that its providers were selling its customers&#8217; data. This news resulted in the firm facing a severe backlash from the community, and importantly, it has failed to address this issue. According to [&#8230;]The post Coinbase executive who revealed client data sale leaving firm for Fidelity appeared first on AMBCrypto.\n"
     ]
    }
   ],
   "source": [
    "#some_news = get_tweets(df1)\n",
    "# picking positive tweets from tweets \n",
    "ptnews = [one_news for one_news in some_news if one_news['sentiment'] == 'positive'] \n",
    "# percentage of positive tweets \n",
    "print(\"Positive news percentage: {} %\".format(100*len(ptnews)/len(some_news))) \n",
    "# picking negative tweets from tweets \n",
    "ntnews = [one_news for one_news in some_news if one_news['sentiment'] == 'negative'] \n",
    "# percentage of negative tweets \n",
    "print(\"Negative news percentage: {} %\".format(100*len(ntnews)/len(some_news))) \n",
    "# percentage of neutral tweets \n",
    "print(\"Neutral news percentage: {} %\".format(100*(len(some_news) - len(ntnews) - len(ptnews))/len(some_news))) \n",
    "\n",
    "# printing first 10 positive tweets \n",
    "print(\"\\n\\nPositive news:\") \n",
    "for a_news in ptnews[:5]: \n",
    "    print(a_news['full_news']) \n",
    "\n",
    "# printing first 5 negative tweets \n",
    "print(\"\\n\\nNegative news:\") \n",
    "for a_news in ntnews[:5]: \n",
    "    print(a_news['full_news']) "
   ]
  },
  {
   "cell_type": "code",
   "execution_count": 36,
   "metadata": {},
   "outputs": [
    {
     "name": "stdout",
     "output_type": "stream",
     "text": [
      "<class 'list'>\n",
      "89055\n"
     ]
    }
   ],
   "source": []
  },
  {
   "cell_type": "code",
   "execution_count": 66,
   "metadata": {},
   "outputs": [
    {
     "data": {
      "text/html": [
       "<div>\n",
       "<style scoped>\n",
       "    .dataframe tbody tr th:only-of-type {\n",
       "        vertical-align: middle;\n",
       "    }\n",
       "\n",
       "    .dataframe tbody tr th {\n",
       "        vertical-align: top;\n",
       "    }\n",
       "\n",
       "    .dataframe thead th {\n",
       "        text-align: right;\n",
       "    }\n",
       "</style>\n",
       "<table border=\"1\" class=\"dataframe\">\n",
       "  <thead>\n",
       "    <tr style=\"text-align: right;\">\n",
       "      <th></th>\n",
       "      <th>full_news</th>\n",
       "      <th>sentiment</th>\n",
       "      <th>time</th>\n",
       "    </tr>\n",
       "  </thead>\n",
       "  <tbody>\n",
       "    <tr>\n",
       "      <th>89043</th>\n",
       "      <td>WAVES Weekly No. 31Last week has seen a number...</td>\n",
       "      <td>positive</td>\n",
       "      <td>1487548800</td>\n",
       "    </tr>\n",
       "    <tr>\n",
       "      <th>89044</th>\n",
       "      <td>WAVES Weekly No. 30This week we have several u...</td>\n",
       "      <td>positive</td>\n",
       "      <td>1486944000</td>\n",
       "    </tr>\n",
       "    <tr>\n",
       "      <th>89045</th>\n",
       "      <td>WAVES Weekly No. 30This week we have several u...</td>\n",
       "      <td>positive</td>\n",
       "      <td>1486944000</td>\n",
       "    </tr>\n",
       "    <tr>\n",
       "      <th>89046</th>\n",
       "      <td>WAVES Weekly No. 29Blockchain Developers Meetu...</td>\n",
       "      <td>positive</td>\n",
       "      <td>1486425600</td>\n",
       "    </tr>\n",
       "    <tr>\n",
       "      <th>89047</th>\n",
       "      <td>WAVES Weekly No. 29Blockchain Developers Meetu...</td>\n",
       "      <td>positive</td>\n",
       "      <td>1486425600</td>\n",
       "    </tr>\n",
       "    <tr>\n",
       "      <th>89048</th>\n",
       "      <td>Tidex Aiming to Use Waves \"Matcher\" Technology...</td>\n",
       "      <td>positive</td>\n",
       "      <td>1486339200</td>\n",
       "    </tr>\n",
       "    <tr>\n",
       "      <th>89049</th>\n",
       "      <td>Tidex Aiming to Use Waves \"Matcher\" Technology...</td>\n",
       "      <td>positive</td>\n",
       "      <td>1486339200</td>\n",
       "    </tr>\n",
       "    <tr>\n",
       "      <th>89050</th>\n",
       "      <td>WAVES Weekly No. 28A transcript of the recent ...</td>\n",
       "      <td>positive</td>\n",
       "      <td>1485734400</td>\n",
       "    </tr>\n",
       "    <tr>\n",
       "      <th>89051</th>\n",
       "      <td>WAVES Weekly No. 28A transcript of the recent ...</td>\n",
       "      <td>positive</td>\n",
       "      <td>1485734400</td>\n",
       "    </tr>\n",
       "    <tr>\n",
       "      <th>89052</th>\n",
       "      <td>CORE Radio Interview Transcript with Sasha Iva...</td>\n",
       "      <td>positive</td>\n",
       "      <td>1485475200</td>\n",
       "    </tr>\n",
       "    <tr>\n",
       "      <th>89053</th>\n",
       "      <td>CORE Radio Interview Transcript with Sasha Iva...</td>\n",
       "      <td>positive</td>\n",
       "      <td>1485475200</td>\n",
       "    </tr>\n",
       "    <tr>\n",
       "      <th>89054</th>\n",
       "      <td>Novoletne zaobljubeZačetek leta je tu in z nji...</td>\n",
       "      <td>positive</td>\n",
       "      <td>1483790400</td>\n",
       "    </tr>\n",
       "  </tbody>\n",
       "</table>\n",
       "</div>"
      ],
      "text/plain": [
       "                                               full_news sentiment        time\n",
       "89043  WAVES Weekly No. 31Last week has seen a number...  positive  1487548800\n",
       "89044  WAVES Weekly No. 30This week we have several u...  positive  1486944000\n",
       "89045  WAVES Weekly No. 30This week we have several u...  positive  1486944000\n",
       "89046  WAVES Weekly No. 29Blockchain Developers Meetu...  positive  1486425600\n",
       "89047  WAVES Weekly No. 29Blockchain Developers Meetu...  positive  1486425600\n",
       "89048  Tidex Aiming to Use Waves \"Matcher\" Technology...  positive  1486339200\n",
       "89049  Tidex Aiming to Use Waves \"Matcher\" Technology...  positive  1486339200\n",
       "89050  WAVES Weekly No. 28A transcript of the recent ...  positive  1485734400\n",
       "89051  WAVES Weekly No. 28A transcript of the recent ...  positive  1485734400\n",
       "89052  CORE Radio Interview Transcript with Sasha Iva...  positive  1485475200\n",
       "89053  CORE Radio Interview Transcript with Sasha Iva...  positive  1485475200\n",
       "89054  Novoletne zaobljubeZačetek leta je tu in z nji...  positive  1483790400"
      ]
     },
     "execution_count": 66,
     "metadata": {},
     "output_type": "execute_result"
    }
   ],
   "source": [
    "# pd.DataFrame(data)\n",
    "news_sentiments_df = pd.DataFrame(some_news)\n",
    "news_sentiments_df.tail(12)\n"
   ]
  },
  {
   "cell_type": "code",
   "execution_count": 67,
   "metadata": {},
   "outputs": [
    {
     "data": {
      "text/plain": [
       "Index(['full_news', 'sentiment', 'time'], dtype='object')"
      ]
     },
     "execution_count": 67,
     "metadata": {},
     "output_type": "execute_result"
    }
   ],
   "source": [
    "news_sentiments_df.columns"
   ]
  },
  {
   "cell_type": "markdown",
   "metadata": {},
   "source": [
    "## Generating sentiment score"
   ]
  },
  {
   "cell_type": "code",
   "execution_count": 23,
   "metadata": {},
   "outputs": [
    {
     "ename": "KeyError",
     "evalue": "\"['time'] not in index\"",
     "output_type": "error",
     "traceback": [
      "\u001b[0;31m---------------------------------------------------------------------------\u001b[0m",
      "\u001b[0;31mKeyError\u001b[0m                                  Traceback (most recent call last)",
      "\u001b[0;32m<ipython-input-23-a4336565cfa4>\u001b[0m in \u001b[0;36m<module>\u001b[0;34m\u001b[0m\n\u001b[1;32m      5\u001b[0m \u001b[0mnews_info_with_sentiment\u001b[0m\u001b[0;34m.\u001b[0m\u001b[0mhead\u001b[0m\u001b[0;34m(\u001b[0m\u001b[0;36m2\u001b[0m\u001b[0;34m)\u001b[0m\u001b[0;34m\u001b[0m\u001b[0;34m\u001b[0m\u001b[0m\n\u001b[1;32m      6\u001b[0m \u001b[0mnews_info_with_sentiment\u001b[0m\u001b[0;34m.\u001b[0m\u001b[0mshape\u001b[0m\u001b[0;34m\u001b[0m\u001b[0;34m\u001b[0m\u001b[0m\n\u001b[0;32m----> 7\u001b[0;31m \u001b[0mdf_senti\u001b[0m \u001b[0;34m=\u001b[0m \u001b[0mnews_info_with_sentiment\u001b[0m\u001b[0;34m[\u001b[0m\u001b[0;34m[\u001b[0m\u001b[0;34m'time'\u001b[0m\u001b[0;34m,\u001b[0m \u001b[0;34m'published_on'\u001b[0m\u001b[0;34m,\u001b[0m \u001b[0;34m'news_content'\u001b[0m\u001b[0;34m,\u001b[0m\u001b[0;34m'sentiment'\u001b[0m\u001b[0;34m]\u001b[0m\u001b[0;34m]\u001b[0m\u001b[0;34m\u001b[0m\u001b[0;34m\u001b[0m\u001b[0m\n\u001b[0m\u001b[1;32m      8\u001b[0m \u001b[0mdf_senti\u001b[0m \u001b[0;34m=\u001b[0m \u001b[0mdf_senti\u001b[0m\u001b[0;34m.\u001b[0m\u001b[0msort_values\u001b[0m\u001b[0;34m(\u001b[0m\u001b[0mby\u001b[0m\u001b[0;34m=\u001b[0m\u001b[0;34m'published_on'\u001b[0m\u001b[0;34m,\u001b[0m \u001b[0mascending\u001b[0m\u001b[0;34m=\u001b[0m\u001b[0;32mTrue\u001b[0m\u001b[0;34m)\u001b[0m\u001b[0;34m\u001b[0m\u001b[0;34m\u001b[0m\u001b[0m\n",
      "\u001b[0;32m~/anaconda3/lib/python3.7/site-packages/pandas/core/frame.py\u001b[0m in \u001b[0;36m__getitem__\u001b[0;34m(self, key)\u001b[0m\n\u001b[1;32m   2680\u001b[0m         \u001b[0;32mif\u001b[0m \u001b[0misinstance\u001b[0m\u001b[0;34m(\u001b[0m\u001b[0mkey\u001b[0m\u001b[0;34m,\u001b[0m \u001b[0;34m(\u001b[0m\u001b[0mSeries\u001b[0m\u001b[0;34m,\u001b[0m \u001b[0mnp\u001b[0m\u001b[0;34m.\u001b[0m\u001b[0mndarray\u001b[0m\u001b[0;34m,\u001b[0m \u001b[0mIndex\u001b[0m\u001b[0;34m,\u001b[0m \u001b[0mlist\u001b[0m\u001b[0;34m)\u001b[0m\u001b[0;34m)\u001b[0m\u001b[0;34m:\u001b[0m\u001b[0;34m\u001b[0m\u001b[0;34m\u001b[0m\u001b[0m\n\u001b[1;32m   2681\u001b[0m             \u001b[0;31m# either boolean or fancy integer index\u001b[0m\u001b[0;34m\u001b[0m\u001b[0;34m\u001b[0m\u001b[0;34m\u001b[0m\u001b[0m\n\u001b[0;32m-> 2682\u001b[0;31m             \u001b[0;32mreturn\u001b[0m \u001b[0mself\u001b[0m\u001b[0;34m.\u001b[0m\u001b[0m_getitem_array\u001b[0m\u001b[0;34m(\u001b[0m\u001b[0mkey\u001b[0m\u001b[0;34m)\u001b[0m\u001b[0;34m\u001b[0m\u001b[0;34m\u001b[0m\u001b[0m\n\u001b[0m\u001b[1;32m   2683\u001b[0m         \u001b[0;32melif\u001b[0m \u001b[0misinstance\u001b[0m\u001b[0;34m(\u001b[0m\u001b[0mkey\u001b[0m\u001b[0;34m,\u001b[0m \u001b[0mDataFrame\u001b[0m\u001b[0;34m)\u001b[0m\u001b[0;34m:\u001b[0m\u001b[0;34m\u001b[0m\u001b[0;34m\u001b[0m\u001b[0m\n\u001b[1;32m   2684\u001b[0m             \u001b[0;32mreturn\u001b[0m \u001b[0mself\u001b[0m\u001b[0;34m.\u001b[0m\u001b[0m_getitem_frame\u001b[0m\u001b[0;34m(\u001b[0m\u001b[0mkey\u001b[0m\u001b[0;34m)\u001b[0m\u001b[0;34m\u001b[0m\u001b[0;34m\u001b[0m\u001b[0m\n",
      "\u001b[0;32m~/anaconda3/lib/python3.7/site-packages/pandas/core/frame.py\u001b[0m in \u001b[0;36m_getitem_array\u001b[0;34m(self, key)\u001b[0m\n\u001b[1;32m   2724\u001b[0m             \u001b[0;32mreturn\u001b[0m \u001b[0mself\u001b[0m\u001b[0;34m.\u001b[0m\u001b[0m_take\u001b[0m\u001b[0;34m(\u001b[0m\u001b[0mindexer\u001b[0m\u001b[0;34m,\u001b[0m \u001b[0maxis\u001b[0m\u001b[0;34m=\u001b[0m\u001b[0;36m0\u001b[0m\u001b[0;34m)\u001b[0m\u001b[0;34m\u001b[0m\u001b[0;34m\u001b[0m\u001b[0m\n\u001b[1;32m   2725\u001b[0m         \u001b[0;32melse\u001b[0m\u001b[0;34m:\u001b[0m\u001b[0;34m\u001b[0m\u001b[0;34m\u001b[0m\u001b[0m\n\u001b[0;32m-> 2726\u001b[0;31m             \u001b[0mindexer\u001b[0m \u001b[0;34m=\u001b[0m \u001b[0mself\u001b[0m\u001b[0;34m.\u001b[0m\u001b[0mloc\u001b[0m\u001b[0;34m.\u001b[0m\u001b[0m_convert_to_indexer\u001b[0m\u001b[0;34m(\u001b[0m\u001b[0mkey\u001b[0m\u001b[0;34m,\u001b[0m \u001b[0maxis\u001b[0m\u001b[0;34m=\u001b[0m\u001b[0;36m1\u001b[0m\u001b[0;34m)\u001b[0m\u001b[0;34m\u001b[0m\u001b[0;34m\u001b[0m\u001b[0m\n\u001b[0m\u001b[1;32m   2727\u001b[0m             \u001b[0;32mreturn\u001b[0m \u001b[0mself\u001b[0m\u001b[0;34m.\u001b[0m\u001b[0m_take\u001b[0m\u001b[0;34m(\u001b[0m\u001b[0mindexer\u001b[0m\u001b[0;34m,\u001b[0m \u001b[0maxis\u001b[0m\u001b[0;34m=\u001b[0m\u001b[0;36m1\u001b[0m\u001b[0;34m)\u001b[0m\u001b[0;34m\u001b[0m\u001b[0;34m\u001b[0m\u001b[0m\n\u001b[1;32m   2728\u001b[0m \u001b[0;34m\u001b[0m\u001b[0m\n",
      "\u001b[0;32m~/anaconda3/lib/python3.7/site-packages/pandas/core/indexing.py\u001b[0m in \u001b[0;36m_convert_to_indexer\u001b[0;34m(self, obj, axis, is_setter)\u001b[0m\n\u001b[1;32m   1325\u001b[0m                 \u001b[0;32mif\u001b[0m \u001b[0mmask\u001b[0m\u001b[0;34m.\u001b[0m\u001b[0many\u001b[0m\u001b[0;34m(\u001b[0m\u001b[0;34m)\u001b[0m\u001b[0;34m:\u001b[0m\u001b[0;34m\u001b[0m\u001b[0;34m\u001b[0m\u001b[0m\n\u001b[1;32m   1326\u001b[0m                     raise KeyError('{mask} not in index'\n\u001b[0;32m-> 1327\u001b[0;31m                                    .format(mask=objarr[mask]))\n\u001b[0m\u001b[1;32m   1328\u001b[0m \u001b[0;34m\u001b[0m\u001b[0m\n\u001b[1;32m   1329\u001b[0m                 \u001b[0;32mreturn\u001b[0m \u001b[0mcom\u001b[0m\u001b[0;34m.\u001b[0m\u001b[0m_values_from_object\u001b[0m\u001b[0;34m(\u001b[0m\u001b[0mindexer\u001b[0m\u001b[0;34m)\u001b[0m\u001b[0;34m\u001b[0m\u001b[0;34m\u001b[0m\u001b[0m\n",
      "\u001b[0;31mKeyError\u001b[0m: \"['time'] not in index\""
     ]
    }
   ],
   "source": [
    "news_sentiments_df = pd.DataFrame(some_news)\n",
    "# news_sentiments_df.shape\n",
    "# df1.shape\n",
    "news_info_with_sentiment = pd.concat([df1, news_sentiments_df], join='inner', axis=1)\n",
    "news_info_with_sentiment.head(2)\n",
    "news_info_with_sentiment.shape\n",
    "df_senti = news_info_with_sentiment[['time', 'published_on', 'news_content','sentiment']]\n",
    "df_senti = df_senti.sort_values(by='published_on', ascending=True)\n"
   ]
  },
  {
   "cell_type": "code",
   "execution_count": 13,
   "metadata": {},
   "outputs": [
    {
     "ename": "NameError",
     "evalue": "name 'df_senti' is not defined",
     "output_type": "error",
     "traceback": [
      "\u001b[0;31m---------------------------------------------------------------------------\u001b[0m",
      "\u001b[0;31mNameError\u001b[0m                                 Traceback (most recent call last)",
      "\u001b[0;32m<ipython-input-13-a011b73c2038>\u001b[0m in \u001b[0;36m<module>\u001b[0;34m\u001b[0m\n\u001b[0;32m----> 1\u001b[0;31m \u001b[0mdf_senti\u001b[0m\u001b[0;34m[\u001b[0m\u001b[0;34m'time'\u001b[0m\u001b[0;34m]\u001b[0m\u001b[0;34m.\u001b[0m\u001b[0mhead\u001b[0m\u001b[0;34m(\u001b[0m\u001b[0;36m1\u001b[0m\u001b[0;34m)\u001b[0m\u001b[0;34m\u001b[0m\u001b[0;34m\u001b[0m\u001b[0m\n\u001b[0m",
      "\u001b[0;31mNameError\u001b[0m: name 'df_senti' is not defined"
     ]
    }
   ],
   "source": [
    "df_senti['time'].head(1)"
   ]
  },
  {
   "cell_type": "code",
   "execution_count": 71,
   "metadata": {},
   "outputs": [],
   "source": [
    "df_senti = news_sentiments_df[['time','sentiment']]\n",
    "df_senti['time_second'] = pd.to_datetime(df_senti['time'], unit='s')\n",
    "df_senti['day'] = df_senti['time_second'].dt.strftime('%Y-%m-%d')\n",
    "df_senti['month'] = df_senti['time_second'].dt.strftime('%Y-%m')\n",
    "# df_senti['time_AM_PM'] = coin_price_time['time_second'].dt.strftime('%Y-%m-%d %r')\n",
    "df_senti.head(1)\n",
    "df_senti.to_csv('news_PN_sentiment.csv', encoding='utf-8', index=False)"
   ]
  },
  {
   "cell_type": "code",
   "execution_count": 68,
   "metadata": {},
   "outputs": [
    {
     "ename": "AttributeError",
     "evalue": "Can only use .dt accessor with datetimelike values",
     "output_type": "error",
     "traceback": [
      "\u001b[0;31m---------------------------------------------------------------------------\u001b[0m",
      "\u001b[0;31mAttributeError\u001b[0m                            Traceback (most recent call last)",
      "\u001b[0;32m<ipython-input-68-96a42e7ea488>\u001b[0m in \u001b[0;36m<module>\u001b[0;34m\u001b[0m\n\u001b[1;32m      1\u001b[0m \u001b[0mdf_senti\u001b[0m \u001b[0;34m=\u001b[0m \u001b[0mnews_sentiments_df\u001b[0m\u001b[0;34m[\u001b[0m\u001b[0;34m[\u001b[0m\u001b[0;34m'time'\u001b[0m\u001b[0;34m,\u001b[0m\u001b[0;34m'sentiment'\u001b[0m\u001b[0;34m]\u001b[0m\u001b[0;34m]\u001b[0m\u001b[0;34m\u001b[0m\u001b[0;34m\u001b[0m\u001b[0m\n\u001b[0;32m----> 2\u001b[0;31m \u001b[0mdf_senti\u001b[0m\u001b[0;34m[\u001b[0m\u001b[0;34m'date'\u001b[0m\u001b[0;34m]\u001b[0m \u001b[0;34m=\u001b[0m \u001b[0mdf_senti\u001b[0m\u001b[0;34m[\u001b[0m\u001b[0;34m'time'\u001b[0m\u001b[0;34m]\u001b[0m\u001b[0;34m.\u001b[0m\u001b[0mdt\u001b[0m\u001b[0;34m.\u001b[0m\u001b[0mdate\u001b[0m\u001b[0;34m\u001b[0m\u001b[0;34m\u001b[0m\u001b[0m\n\u001b[0m\u001b[1;32m      3\u001b[0m \u001b[0mdf_senti\u001b[0m\u001b[0;34m[\u001b[0m\u001b[0;34m'hour'\u001b[0m\u001b[0;34m]\u001b[0m \u001b[0;34m=\u001b[0m \u001b[0mdf_senti\u001b[0m\u001b[0;34m[\u001b[0m\u001b[0;34m'time'\u001b[0m\u001b[0;34m]\u001b[0m\u001b[0;34m.\u001b[0m\u001b[0mdt\u001b[0m\u001b[0;34m.\u001b[0m\u001b[0mhour\u001b[0m\u001b[0;34m\u001b[0m\u001b[0;34m\u001b[0m\u001b[0m\n\u001b[1;32m      4\u001b[0m \u001b[0mdf_senti\u001b[0m\u001b[0;34m[\u001b[0m\u001b[0;34m'month'\u001b[0m\u001b[0;34m]\u001b[0m \u001b[0;34m=\u001b[0m \u001b[0mdf_senti\u001b[0m\u001b[0;34m[\u001b[0m\u001b[0;34m'time'\u001b[0m\u001b[0;34m]\u001b[0m\u001b[0;34m.\u001b[0m\u001b[0mdt\u001b[0m\u001b[0;34m.\u001b[0m\u001b[0mmonth\u001b[0m\u001b[0;34m\u001b[0m\u001b[0;34m\u001b[0m\u001b[0m\n\u001b[1;32m      5\u001b[0m \u001b[0mdf_senti\u001b[0m\u001b[0;34m[\u001b[0m\u001b[0;34m[\u001b[0m\u001b[0;34m'time'\u001b[0m\u001b[0;34m,\u001b[0m\u001b[0;34m'date'\u001b[0m\u001b[0;34m,\u001b[0m\u001b[0;34m'hour'\u001b[0m\u001b[0;34m,\u001b[0m\u001b[0;34m'sentiment'\u001b[0m\u001b[0;34m,\u001b[0m\u001b[0;34m'published_on'\u001b[0m\u001b[0;34m]\u001b[0m\u001b[0;34m]\u001b[0m\u001b[0;34m.\u001b[0m\u001b[0mhead\u001b[0m\u001b[0;34m(\u001b[0m\u001b[0;36m1\u001b[0m\u001b[0;34m)\u001b[0m\u001b[0;34m\u001b[0m\u001b[0;34m\u001b[0m\u001b[0m\n",
      "\u001b[0;32m~/anaconda3/lib/python3.7/site-packages/pandas/core/generic.py\u001b[0m in \u001b[0;36m__getattr__\u001b[0;34m(self, name)\u001b[0m\n\u001b[1;32m   4370\u001b[0m         if (name in self._internal_names_set or name in self._metadata or\n\u001b[1;32m   4371\u001b[0m                 name in self._accessors):\n\u001b[0;32m-> 4372\u001b[0;31m             \u001b[0;32mreturn\u001b[0m \u001b[0mobject\u001b[0m\u001b[0;34m.\u001b[0m\u001b[0m__getattribute__\u001b[0m\u001b[0;34m(\u001b[0m\u001b[0mself\u001b[0m\u001b[0;34m,\u001b[0m \u001b[0mname\u001b[0m\u001b[0;34m)\u001b[0m\u001b[0;34m\u001b[0m\u001b[0;34m\u001b[0m\u001b[0m\n\u001b[0m\u001b[1;32m   4373\u001b[0m         \u001b[0;32melse\u001b[0m\u001b[0;34m:\u001b[0m\u001b[0;34m\u001b[0m\u001b[0;34m\u001b[0m\u001b[0m\n\u001b[1;32m   4374\u001b[0m             \u001b[0;32mif\u001b[0m \u001b[0mself\u001b[0m\u001b[0;34m.\u001b[0m\u001b[0m_info_axis\u001b[0m\u001b[0;34m.\u001b[0m\u001b[0m_can_hold_identifiers_and_holds_name\u001b[0m\u001b[0;34m(\u001b[0m\u001b[0mname\u001b[0m\u001b[0;34m)\u001b[0m\u001b[0;34m:\u001b[0m\u001b[0;34m\u001b[0m\u001b[0;34m\u001b[0m\u001b[0m\n",
      "\u001b[0;32m~/anaconda3/lib/python3.7/site-packages/pandas/core/accessor.py\u001b[0m in \u001b[0;36m__get__\u001b[0;34m(self, obj, cls)\u001b[0m\n\u001b[1;32m    131\u001b[0m             \u001b[0;31m# we're accessing the attribute of the class, i.e., Dataset.geo\u001b[0m\u001b[0;34m\u001b[0m\u001b[0;34m\u001b[0m\u001b[0;34m\u001b[0m\u001b[0m\n\u001b[1;32m    132\u001b[0m             \u001b[0;32mreturn\u001b[0m \u001b[0mself\u001b[0m\u001b[0;34m.\u001b[0m\u001b[0m_accessor\u001b[0m\u001b[0;34m\u001b[0m\u001b[0;34m\u001b[0m\u001b[0m\n\u001b[0;32m--> 133\u001b[0;31m         \u001b[0maccessor_obj\u001b[0m \u001b[0;34m=\u001b[0m \u001b[0mself\u001b[0m\u001b[0;34m.\u001b[0m\u001b[0m_accessor\u001b[0m\u001b[0;34m(\u001b[0m\u001b[0mobj\u001b[0m\u001b[0;34m)\u001b[0m\u001b[0;34m\u001b[0m\u001b[0;34m\u001b[0m\u001b[0m\n\u001b[0m\u001b[1;32m    134\u001b[0m         \u001b[0;31m# Replace the property with the accessor object. Inspired by:\u001b[0m\u001b[0;34m\u001b[0m\u001b[0;34m\u001b[0m\u001b[0;34m\u001b[0m\u001b[0m\n\u001b[1;32m    135\u001b[0m         \u001b[0;31m# http://www.pydanny.com/cached-property.html\u001b[0m\u001b[0;34m\u001b[0m\u001b[0;34m\u001b[0m\u001b[0;34m\u001b[0m\u001b[0m\n",
      "\u001b[0;32m~/anaconda3/lib/python3.7/site-packages/pandas/core/indexes/accessors.py\u001b[0m in \u001b[0;36m__new__\u001b[0;34m(cls, data)\u001b[0m\n\u001b[1;32m    323\u001b[0m             \u001b[0;32mpass\u001b[0m  \u001b[0;31m# we raise an attribute error anyway\u001b[0m\u001b[0;34m\u001b[0m\u001b[0;34m\u001b[0m\u001b[0m\n\u001b[1;32m    324\u001b[0m \u001b[0;34m\u001b[0m\u001b[0m\n\u001b[0;32m--> 325\u001b[0;31m         raise AttributeError(\"Can only use .dt accessor with datetimelike \"\n\u001b[0m\u001b[1;32m    326\u001b[0m                              \"values\")\n",
      "\u001b[0;31mAttributeError\u001b[0m: Can only use .dt accessor with datetimelike values"
     ]
    }
   ],
   "source": [
    "\n",
    "df_senti['date'] = df_senti['time'].dt.date\n",
    "df_senti['hour'] = df_senti['time'].dt.hour\n",
    "df_senti['month'] = df_senti['time'].dt.month\n",
    "df_senti[['time','date','hour','sentiment','published_on']].head(1)\n",
    "\n",
    "\n"
   ]
  },
  {
   "cell_type": "code",
   "execution_count": 141,
   "metadata": {},
   "outputs": [
    {
     "name": "stdout",
     "output_type": "stream",
     "text": [
      "1\n"
     ]
    },
    {
     "data": {
      "text/plain": [
       "datetime.date(2017, 12, 16)"
      ]
     },
     "execution_count": 141,
     "metadata": {},
     "output_type": "execute_result"
    }
   ],
   "source": [
    "a = int(1.4)\n",
    "print(a)\n",
    "\n",
    "\n",
    "b = pd.Timestamp(1513393355.5, unit='s') \n",
    "b.date().format()"
   ]
  },
  {
   "cell_type": "code",
   "execution_count": null,
   "metadata": {},
   "outputs": [],
   "source": [
    "# to_t = coin_return.time[10]\n",
    "# from_t = to_t - 86400\n",
    "\n",
    "# holder = []\n",
    "# for i in range(coin_return.shape[0]):\n",
    "#     to_t = coin_return.time[i]\n",
    "#     from_t = to_t - 86400\n",
    "#     news_interval = news[(news['published_on'] >= from_t) & (news['published_on'] <= to_t)]\n",
    "#     score = news_interval.mean()[-4:]\n",
    "#     score['time'] = to_t\n",
    "#     holder.append(score)\n",
    "# score_df = pd.concat(holder,axis=1).T"
   ]
  },
  {
   "cell_type": "code",
   "execution_count": 176,
   "metadata": {},
   "outputs": [
    {
     "name": "stdout",
     "output_type": "stream",
     "text": [
      "(821, 1)\n",
      "(19705, 1)\n"
     ]
    }
   ],
   "source": [
    "#unix time at 0:0:0 each day\n",
    "days_unix = [1483228800 + i*86400 for i in range(0,821)]\n",
    "days_ux = pd.DataFrame(days_unix,columns=['date_unix'])\n",
    "\n",
    "hours_unix = [1483228800 + i*3600 for i in range(19705)]\n",
    "hours_ux = pd.DataFrame(hours_unix, columns=['hour_unix'])\n",
    "print(days_ux.shape)\n",
    "print(hours_ux.shape)"
   ]
  },
  {
   "cell_type": "code",
   "execution_count": 177,
   "metadata": {},
   "outputs": [],
   "source": [
    "pd.set_option('display.max_colwidth', -1)"
   ]
  },
  {
   "cell_type": "markdown",
   "metadata": {},
   "source": [
    "## Generating Daily sentiment score"
   ]
  },
  {
   "cell_type": "code",
   "execution_count": 68,
   "metadata": {},
   "outputs": [
    {
     "data": {
      "text/html": [
       "<div>\n",
       "<style scoped>\n",
       "    .dataframe tbody tr th:only-of-type {\n",
       "        vertical-align: middle;\n",
       "    }\n",
       "\n",
       "    .dataframe tbody tr th {\n",
       "        vertical-align: top;\n",
       "    }\n",
       "\n",
       "    .dataframe thead th {\n",
       "        text-align: right;\n",
       "    }\n",
       "</style>\n",
       "<table border=\"1\" class=\"dataframe\">\n",
       "  <thead>\n",
       "    <tr style=\"text-align: right;\">\n",
       "      <th></th>\n",
       "      <th>time</th>\n",
       "      <th>published_on</th>\n",
       "      <th>news_content</th>\n",
       "      <th>sentiment</th>\n",
       "    </tr>\n",
       "  </thead>\n",
       "  <tbody>\n",
       "    <tr>\n",
       "      <th>89054</th>\n",
       "      <td>2017-01-07 12:00:00</td>\n",
       "      <td>1483790400</td>\n",
       "      <td>Novoletne zaobljubeZačetek leta je tu in z nji...</td>\n",
       "      <td>positive</td>\n",
       "    </tr>\n",
       "    <tr>\n",
       "      <th>89053</th>\n",
       "      <td>2017-01-27 00:00:00</td>\n",
       "      <td>1485475200</td>\n",
       "      <td>CORE Radio Interview Transcript with Sasha Iva...</td>\n",
       "      <td>positive</td>\n",
       "    </tr>\n",
       "  </tbody>\n",
       "</table>\n",
       "</div>"
      ],
      "text/plain": [
       "                     time  published_on  \\\n",
       "89054 2017-01-07 12:00:00    1483790400   \n",
       "89053 2017-01-27 00:00:00    1485475200   \n",
       "\n",
       "                                            news_content sentiment  \n",
       "89054  Novoletne zaobljubeZačetek leta je tu in z nji...  positive  \n",
       "89053  CORE Radio Interview Transcript with Sasha Iva...  positive  "
      ]
     },
     "execution_count": 68,
     "metadata": {},
     "output_type": "execute_result"
    }
   ],
   "source": [
    "df_senti.head(2)"
   ]
  },
  {
   "cell_type": "code",
   "execution_count": 80,
   "metadata": {},
   "outputs": [
    {
     "data": {
      "text/plain": [
       "89054   2017-01-07 12:00:00\n",
       "Name: time, dtype: datetime64[ns]"
      ]
     },
     "execution_count": 80,
     "metadata": {},
     "output_type": "execute_result"
    }
   ],
   "source": [
    "df_senti['time'].head(1)"
   ]
  },
  {
   "cell_type": "code",
   "execution_count": 94,
   "metadata": {},
   "outputs": [
    {
     "data": {
      "text/plain": [
       "89055"
      ]
     },
     "execution_count": 94,
     "metadata": {},
     "output_type": "execute_result"
    }
   ],
   "source": [
    "len(df_senti)"
   ]
  },
  {
   "cell_type": "code",
   "execution_count": 95,
   "metadata": {},
   "outputs": [
    {
     "data": {
      "text/plain": [
       "(89055, 4)"
      ]
     },
     "execution_count": 95,
     "metadata": {},
     "output_type": "execute_result"
    }
   ],
   "source": [
    "df_senti.shape"
   ]
  },
  {
   "cell_type": "code",
   "execution_count": 1,
   "metadata": {},
   "outputs": [
    {
     "ename": "NameError",
     "evalue": "name 'df_senti' is not defined",
     "output_type": "error",
     "traceback": [
      "\u001b[0;31m---------------------------------------------------------------------------\u001b[0m",
      "\u001b[0;31mNameError\u001b[0m                                 Traceback (most recent call last)",
      "\u001b[0;32m<ipython-input-1-91d482e35898>\u001b[0m in \u001b[0;36m<module>\u001b[0;34m\u001b[0m\n\u001b[0;32m----> 1\u001b[0;31m \u001b[0mdf_senti\u001b[0m\u001b[0;34m.\u001b[0m\u001b[0mhead\u001b[0m\u001b[0;34m(\u001b[0m\u001b[0;36m1\u001b[0m\u001b[0;34m)\u001b[0m\u001b[0;34m\u001b[0m\u001b[0;34m\u001b[0m\u001b[0m\n\u001b[0m",
      "\u001b[0;31mNameError\u001b[0m: name 'df_senti' is not defined"
     ]
    }
   ],
   "source": [
    "df_senti.head(1)"
   ]
  },
  {
   "cell_type": "code",
   "execution_count": null,
   "metadata": {},
   "outputs": [],
   "source": [
    "df_senti.to_csv('all_hourly_social_data.csv', encoding='utf-8', index=False)\n"
   ]
  },
  {
   "cell_type": "markdown",
   "metadata": {},
   "source": [
    "## Getting social data from cryptocomapre (2017.1.1 to 2019.4.1)"
   ]
  },
  {
   "cell_type": "markdown",
   "metadata": {},
   "source": [
    "## Daily social data"
   ]
  },
  {
   "cell_type": "code",
   "execution_count": 118,
   "metadata": {},
   "outputs": [],
   "source": [
    "def get_daily_social_data(date):\n",
    "    \n",
    "    api_key = '610f1e801a5949e3e92544430ae21c7f2b72f9988a37cb6a64aa61566fe6eefd'\n",
    "    url = 'https://min-api.cryptocompare.com/data/social/coin/histo/day?toTs={}&limit=2000&coinId=1182&api_key={}'.format(date, api_key)\n",
    "    social_page = requests.get(url)    \n",
    "    social_json = social_page.json()\n",
    "    return social_json\n",
    "\n",
    "\n",
    "def get_daily_social_df(from_date, to_date):\n",
    "    \"\"\" Get historical price data between two dates. \"\"\"\n",
    "    date = to_date\n",
    "    holder = []\n",
    "    # While the earliest date returned is later than the earliest date requested, keep on querying the API\n",
    "    # and adding the results to a list. \n",
    "    while date > from_date:\n",
    "        data = get_daily_social_data(date)\n",
    "        data_df = pd.DataFrame(data['Data'])\n",
    "        holder.append(data_df)\n",
    "        date = data_df['time'].min()\n",
    "        \n",
    "    # Join together all of the API queries in the list.    \n",
    "    df = pd.concat(holder, axis = 0)                    \n",
    "    # Remove data points from before from_date\n",
    "    df = df[df['time']>from_date]                       \n",
    "    # Convert to timestamp to readable date format\n",
    "    df['Date_Time'] = pd.to_datetime(df['time'], unit='s')   \n",
    "    df = df.sort_values(by='Date_Time', ascending=True)       \n",
    "    return df"
   ]
  },
  {
   "cell_type": "code",
   "execution_count": 119,
   "metadata": {},
   "outputs": [],
   "source": [
    "from_date = int(datetime.date(2017,1,1).strftime(\"%s\")) # 2017 01 01 00:00:00\n",
    "to_date = int(datetime.date(2019,4,1).strftime(\"%s\")) # 2018 04 01 00:00:00\n",
    "all_daily_social_data = get_daily_social_df(from_date,to_date)\n",
    "\n"
   ]
  },
  {
   "cell_type": "code",
   "execution_count": 120,
   "metadata": {},
   "outputs": [
    {
     "data": {
      "text/html": [
       "<div>\n",
       "<style scoped>\n",
       "    .dataframe tbody tr th:only-of-type {\n",
       "        vertical-align: middle;\n",
       "    }\n",
       "\n",
       "    .dataframe tbody tr th {\n",
       "        vertical-align: top;\n",
       "    }\n",
       "\n",
       "    .dataframe thead th {\n",
       "        text-align: right;\n",
       "    }\n",
       "</style>\n",
       "<table border=\"1\" class=\"dataframe\">\n",
       "  <thead>\n",
       "    <tr style=\"text-align: right;\">\n",
       "      <th></th>\n",
       "      <th>analysis_page_views</th>\n",
       "      <th>charts_page_views</th>\n",
       "      <th>code_repo_closed_issues</th>\n",
       "      <th>code_repo_closed_pull_issues</th>\n",
       "      <th>code_repo_forks</th>\n",
       "      <th>code_repo_open_issues</th>\n",
       "      <th>code_repo_open_pull_issues</th>\n",
       "      <th>code_repo_stars</th>\n",
       "      <th>code_repo_subscribers</th>\n",
       "      <th>comments</th>\n",
       "      <th>...</th>\n",
       "      <th>reddit_subscribers</th>\n",
       "      <th>time</th>\n",
       "      <th>total_page_views</th>\n",
       "      <th>trades_page_views</th>\n",
       "      <th>twitter_favourites</th>\n",
       "      <th>twitter_followers</th>\n",
       "      <th>twitter_following</th>\n",
       "      <th>twitter_lists</th>\n",
       "      <th>twitter_statuses</th>\n",
       "      <th>Date_Time</th>\n",
       "    </tr>\n",
       "  </thead>\n",
       "  <tbody>\n",
       "    <tr>\n",
       "      <th>1181</th>\n",
       "      <td>0</td>\n",
       "      <td>0</td>\n",
       "      <td>0</td>\n",
       "      <td>0</td>\n",
       "      <td>0</td>\n",
       "      <td>0</td>\n",
       "      <td>0</td>\n",
       "      <td>0</td>\n",
       "      <td>0</td>\n",
       "      <td>0</td>\n",
       "      <td>...</td>\n",
       "      <td>0</td>\n",
       "      <td>1483315200</td>\n",
       "      <td>0</td>\n",
       "      <td>0</td>\n",
       "      <td>0</td>\n",
       "      <td>0</td>\n",
       "      <td>0</td>\n",
       "      <td>0</td>\n",
       "      <td>0</td>\n",
       "      <td>2017-01-02</td>\n",
       "    </tr>\n",
       "    <tr>\n",
       "      <th>1182</th>\n",
       "      <td>0</td>\n",
       "      <td>0</td>\n",
       "      <td>0</td>\n",
       "      <td>0</td>\n",
       "      <td>0</td>\n",
       "      <td>0</td>\n",
       "      <td>0</td>\n",
       "      <td>0</td>\n",
       "      <td>0</td>\n",
       "      <td>0</td>\n",
       "      <td>...</td>\n",
       "      <td>0</td>\n",
       "      <td>1483401600</td>\n",
       "      <td>0</td>\n",
       "      <td>0</td>\n",
       "      <td>0</td>\n",
       "      <td>0</td>\n",
       "      <td>0</td>\n",
       "      <td>0</td>\n",
       "      <td>0</td>\n",
       "      <td>2017-01-03</td>\n",
       "    </tr>\n",
       "    <tr>\n",
       "      <th>1183</th>\n",
       "      <td>0</td>\n",
       "      <td>0</td>\n",
       "      <td>0</td>\n",
       "      <td>0</td>\n",
       "      <td>0</td>\n",
       "      <td>0</td>\n",
       "      <td>0</td>\n",
       "      <td>0</td>\n",
       "      <td>0</td>\n",
       "      <td>0</td>\n",
       "      <td>...</td>\n",
       "      <td>0</td>\n",
       "      <td>1483488000</td>\n",
       "      <td>0</td>\n",
       "      <td>0</td>\n",
       "      <td>0</td>\n",
       "      <td>0</td>\n",
       "      <td>0</td>\n",
       "      <td>0</td>\n",
       "      <td>0</td>\n",
       "      <td>2017-01-04</td>\n",
       "    </tr>\n",
       "    <tr>\n",
       "      <th>1184</th>\n",
       "      <td>0</td>\n",
       "      <td>0</td>\n",
       "      <td>0</td>\n",
       "      <td>0</td>\n",
       "      <td>0</td>\n",
       "      <td>0</td>\n",
       "      <td>0</td>\n",
       "      <td>0</td>\n",
       "      <td>0</td>\n",
       "      <td>0</td>\n",
       "      <td>...</td>\n",
       "      <td>0</td>\n",
       "      <td>1483574400</td>\n",
       "      <td>0</td>\n",
       "      <td>0</td>\n",
       "      <td>0</td>\n",
       "      <td>0</td>\n",
       "      <td>0</td>\n",
       "      <td>0</td>\n",
       "      <td>0</td>\n",
       "      <td>2017-01-05</td>\n",
       "    </tr>\n",
       "    <tr>\n",
       "      <th>1185</th>\n",
       "      <td>0</td>\n",
       "      <td>0</td>\n",
       "      <td>0</td>\n",
       "      <td>0</td>\n",
       "      <td>0</td>\n",
       "      <td>0</td>\n",
       "      <td>0</td>\n",
       "      <td>0</td>\n",
       "      <td>0</td>\n",
       "      <td>0</td>\n",
       "      <td>...</td>\n",
       "      <td>0</td>\n",
       "      <td>1483660800</td>\n",
       "      <td>0</td>\n",
       "      <td>0</td>\n",
       "      <td>0</td>\n",
       "      <td>0</td>\n",
       "      <td>0</td>\n",
       "      <td>0</td>\n",
       "      <td>0</td>\n",
       "      <td>2017-01-06</td>\n",
       "    </tr>\n",
       "  </tbody>\n",
       "</table>\n",
       "<p>5 rows × 34 columns</p>\n",
       "</div>"
      ],
      "text/plain": [
       "      analysis_page_views  charts_page_views  code_repo_closed_issues  \\\n",
       "1181                    0                  0                        0   \n",
       "1182                    0                  0                        0   \n",
       "1183                    0                  0                        0   \n",
       "1184                    0                  0                        0   \n",
       "1185                    0                  0                        0   \n",
       "\n",
       "      code_repo_closed_pull_issues  code_repo_forks  code_repo_open_issues  \\\n",
       "1181                             0                0                      0   \n",
       "1182                             0                0                      0   \n",
       "1183                             0                0                      0   \n",
       "1184                             0                0                      0   \n",
       "1185                             0                0                      0   \n",
       "\n",
       "      code_repo_open_pull_issues  code_repo_stars  code_repo_subscribers  \\\n",
       "1181                           0                0                      0   \n",
       "1182                           0                0                      0   \n",
       "1183                           0                0                      0   \n",
       "1184                           0                0                      0   \n",
       "1185                           0                0                      0   \n",
       "\n",
       "      comments    ...      reddit_subscribers        time  total_page_views  \\\n",
       "1181         0    ...                       0  1483315200                 0   \n",
       "1182         0    ...                       0  1483401600                 0   \n",
       "1183         0    ...                       0  1483488000                 0   \n",
       "1184         0    ...                       0  1483574400                 0   \n",
       "1185         0    ...                       0  1483660800                 0   \n",
       "\n",
       "      trades_page_views  twitter_favourites  twitter_followers  \\\n",
       "1181                  0                   0                  0   \n",
       "1182                  0                   0                  0   \n",
       "1183                  0                   0                  0   \n",
       "1184                  0                   0                  0   \n",
       "1185                  0                   0                  0   \n",
       "\n",
       "      twitter_following  twitter_lists  twitter_statuses  Date_Time  \n",
       "1181                  0              0                 0 2017-01-02  \n",
       "1182                  0              0                 0 2017-01-03  \n",
       "1183                  0              0                 0 2017-01-04  \n",
       "1184                  0              0                 0 2017-01-05  \n",
       "1185                  0              0                 0 2017-01-06  \n",
       "\n",
       "[5 rows x 34 columns]"
      ]
     },
     "execution_count": 120,
     "metadata": {},
     "output_type": "execute_result"
    }
   ],
   "source": [
    "all_daily_social_data.head()"
   ]
  },
  {
   "cell_type": "code",
   "execution_count": 104,
   "metadata": {},
   "outputs": [],
   "source": [
    "all_daily_social_data.to_csv('all_daily_social_data.csv', encoding='utf-8', index=False)\n"
   ]
  },
  {
   "cell_type": "code",
   "execution_count": 105,
   "metadata": {},
   "outputs": [
    {
     "data": {
      "text/plain": [
       "(820, 34)"
      ]
     },
     "execution_count": 105,
     "metadata": {},
     "output_type": "execute_result"
    }
   ],
   "source": [
    "all_daily_social_data.shape"
   ]
  },
  {
   "cell_type": "markdown",
   "metadata": {},
   "source": [
    "## Hourly data"
   ]
  },
  {
   "cell_type": "code",
   "execution_count": 106,
   "metadata": {},
   "outputs": [],
   "source": [
    "def get_hourly_social_data(date):\n",
    "    \n",
    "    api_key = '610f1e801a5949e3e92544430ae21c7f2b72f9988a37cb6a64aa61566fe6eefd'\n",
    "    url = 'https://min-api.cryptocompare.com/data/social/coin/histo/hour?toTs={}&limit=2000&coinId=1182&api_key={}'.format(date, api_key)\n",
    "    social_page = requests.get(url)    \n",
    "    social_json = social_page.json()\n",
    "    return social_json\n",
    "\n",
    "\n",
    "def get_hourly_social_df(from_date, to_date):\n",
    "    \"\"\" Get historical price data between two dates. \"\"\"\n",
    "    date = to_date\n",
    "    holder = []\n",
    "    # While the earliest date returned is later than the earliest date requested, keep on querying the API\n",
    "    # and adding the results to a list. \n",
    "    while date > from_date:\n",
    "        data = get_hourly_social_data(date)\n",
    "        data_df = pd.DataFrame(data['Data'])\n",
    "        holder.append(data_df)\n",
    "        date = data_df['time'].min()\n",
    "        \n",
    "        \n",
    "    # Join together all of the API queries in the list.    \n",
    "    df = pd.concat(holder, axis = 0)                    \n",
    "    # Remove data points from before from_date\n",
    "    df = df[df['time']>from_date]                       \n",
    "    # Convert to timestamp to readable date format\n",
    "    df['Date_Time'] = pd.to_datetime(df['time'], unit='s')   \n",
    "    df = df.sort_values(by='Date_Time', ascending=True)       \n",
    "    return df\n"
   ]
  },
  {
   "cell_type": "code",
   "execution_count": 107,
   "metadata": {},
   "outputs": [],
   "source": [
    "from_date = int(datetime.date(2017,1,1).strftime(\"%s\")) # 2017 01 01 00:00:00\n",
    "to_date = int(datetime.date(2019,4,1).strftime(\"%s\")) # 2018 04 01 00:00:00\n",
    "all_hourly_social_data = get_hourly_social_df(from_date,to_date)\n"
   ]
  },
  {
   "cell_type": "code",
   "execution_count": 108,
   "metadata": {},
   "outputs": [],
   "source": [
    "all_hourly_social_data.to_csv('all_hourly_social_data.csv', encoding='utf-8', index=False)\n"
   ]
  },
  {
   "cell_type": "code",
   "execution_count": null,
   "metadata": {},
   "outputs": [],
   "source": []
  },
  {
   "cell_type": "code",
   "execution_count": 187,
   "metadata": {},
   "outputs": [
    {
     "data": {
      "text/plain": [
       "array([[[1, 2, 3],\n",
       "        [4, 5, 6]],\n",
       "\n",
       "       [[1, 2, 3],\n",
       "        [4, 5, 6]]])"
      ]
     },
     "execution_count": 187,
     "metadata": {},
     "output_type": "execute_result"
    }
   ],
   "source": [
    "\n",
    "x = np.array([[[1,2,3], [4,5,6]],[[1,2,3], [4,5,6]]])\n",
    "x"
   ]
  },
  {
   "cell_type": "code",
   "execution_count": 188,
   "metadata": {},
   "outputs": [
    {
     "data": {
      "text/plain": [
       "(2, 2, 3)"
      ]
     },
     "execution_count": 188,
     "metadata": {},
     "output_type": "execute_result"
    }
   ],
   "source": [
    "x.shape"
   ]
  },
  {
   "cell_type": "code",
   "execution_count": 192,
   "metadata": {},
   "outputs": [
    {
     "data": {
      "text/plain": [
       "3"
      ]
     },
     "execution_count": 192,
     "metadata": {},
     "output_type": "execute_result"
    }
   ],
   "source": [
    "X = [[ 1., -1.,  2.],\n",
    "     [ 2.,  0.,  0.],\n",
    "     [ 0.,  1., -1.]]\n",
    "x = np.array(X)\n",
    "x.shape\n",
    "len(x)"
   ]
  },
  {
   "cell_type": "code",
   "execution_count": null,
   "metadata": {},
   "outputs": [],
   "source": []
  }
 ],
 "metadata": {
  "kernelspec": {
   "display_name": "Python 3",
   "language": "python",
   "name": "python3"
  },
  "language_info": {
   "codemirror_mode": {
    "name": "ipython",
    "version": 3
   },
   "file_extension": ".py",
   "mimetype": "text/x-python",
   "name": "python",
   "nbconvert_exporter": "python",
   "pygments_lexer": "ipython3",
   "version": "3.7.1"
  }
 },
 "nbformat": 4,
 "nbformat_minor": 2
}
