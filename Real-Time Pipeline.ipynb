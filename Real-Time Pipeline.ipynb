{
 "cells": [
  {
   "cell_type": "code",
   "execution_count": null,
   "metadata": {},
   "outputs": [],
   "source": []
  },
  {
   "cell_type": "code",
   "execution_count": 12,
   "metadata": {},
   "outputs": [],
   "source": [
    "# load model\n",
    "from tensorflow.keras.models import load_model\n",
    "import numpy as np\n",
    "import pandas as pd\n",
    "import json\n",
    "import requests\n",
    "import datetime\n",
    "import time\n",
    "import nltk\n",
    "#nltk.download('vader_lexicon')\n",
    "from nltk.sentiment.vader import SentimentIntensityAnalyzer\n",
    "from sklearn.preprocessing import MaxAbsScaler\n",
    "\n",
    "sia = SentimentIntensityAnalyzer()"
   ]
  },
  {
   "cell_type": "code",
   "execution_count": 4,
   "metadata": {},
   "outputs": [],
   "source": [
    "# # parameters\n",
    "sequence_length = 50\n",
    "ticker_num = 24\n",
    "coin = 'BTC'\n",
    "coinID = '1182'\n",
    "timeperiod = 'histohour'\n",
    "timefrequency = 'hour'\n",
    "agg = 1\n",
    "apiKey = 'bf7c04a024b244dea99e95798fa8e102b7c9738c0933795253c2c8f39f2d160c'\n",
    "cat = 'BTC'\n",
    "lang = 'EN'"
   ]
  },
  {
   "cell_type": "code",
   "execution_count": 5,
   "metadata": {},
   "outputs": [],
   "source": [
    "def price_to_return(df, target_col):\n",
    "    # get price change\n",
    "    s_test = df[target_col]\n",
    "    log_return = np.log(s_test/s_test.shift())\n",
    "    df['price change'] = log_return\n",
    "\n",
    "    # feature extraction from OHLC\n",
    "    # '''high/open'''\n",
    "    df['high/open'] = np.log(df['high']/df['open'])\n",
    "    # '''low/open'''\n",
    "    df['low/open'] = np.log(df['low']/df['open'])\n",
    "    # '''close/high'''\n",
    "    df['close/high'] = np.log(df['close']/df['high'])\n",
    "    # '''close/low'''\n",
    "    df['close/low'] = np.log(df['close']/df['low'])\n",
    "    df = df.drop(['close','high','low','open','volumefrom'],axis=1)\n",
    "    df.rename(columns = {'volumeto':'volumn'},inplace=True)\n",
    "    df = df.dropna()\n",
    "    return df"
   ]
  },
  {
   "cell_type": "code",
   "execution_count": 6,
   "metadata": {},
   "outputs": [],
   "source": [
    "def get_ticker_sentiment(df,news):\n",
    "    holder = []\n",
    "    for i in range(df.shape[0]):\n",
    "        to_t = df.time[i]\n",
    "        from_t = to_t - 86400\n",
    "        news_interval = news[(news['published_on'] >= from_t) & (news['published_on'] <= to_t)]\n",
    "        score = news_interval.mean()[-4:]\n",
    "        score['time'] = to_t\n",
    "        holder.append(score)\n",
    "    score_df = pd.concat(holder,axis=1).T\n",
    "    score_df['time'] = score_df['time'].apply(int)\n",
    "    complete_df = pd.merge(df, score_df, on = 'time')\n",
    "    return complete_df"
   ]
  },
  {
   "cell_type": "code",
   "execution_count": 7,
   "metadata": {},
   "outputs": [],
   "source": [
    "def get_ticker_social(df,coin_social):\n",
    "    coin_social = coin_social.pct_change()\n",
    "    coin_social = coin_social.add(1)\n",
    "    coin_social = np.log(coin_social)\n",
    "    coin_social = coin_social.reset_index()\n",
    "    complete_df = pd.merge(df,coin_social,on='time', how = 'inner')\n",
    "    return complete_df"
   ]
  },
  {
   "cell_type": "code",
   "execution_count": 8,
   "metadata": {},
   "outputs": [],
   "source": [
    "def time_series_to_supervised(df,sequence_length):\n",
    "\n",
    "    temp = df.values\n",
    "    temp = temp.tolist()\n",
    "    result = []\n",
    "    for index in range(len(temp) - sequence_length +1):\n",
    "        result.append(temp[index: index + sequence_length])\n",
    "    data = np.array(result)\n",
    "    \n",
    "    # get x and y\n",
    "    x = data[:, :-1]\n",
    "    y = data[:, -1]\n",
    "    y = y[:, 1] #second column is the price change, which is what we want to predict\n",
    "    \n",
    "    return x, y"
   ]
  },
  {
   "cell_type": "code",
   "execution_count": 9,
   "metadata": {},
   "outputs": [],
   "source": [
    "def data_preparation(coin, coinID, time_period, time_frequency, agg, apiKey, cat, lang, ticker_num, sequence_length):\n",
    "    \n",
    "\n",
    "    def get_news_data_spec(cat, timestamp, apiKey, lang):\n",
    "        news_url = \"https://min-api.cryptocompare.com/data/v2/news/?categories={}&lang={}&lTs={}&api_key={}\".format(cat, lang, timestamp ,apiKey)        \n",
    "        r = requests.get(news_url)\n",
    "        ipdata = r.json()\n",
    "        return ipdata\n",
    "\n",
    "    # get current time\n",
    "    timestamp = int(time.time())\n",
    "    \n",
    "    prediction_length = ticker_num + sequence_length -1\n",
    "    \n",
    "    # APIs\n",
    "    price_url = \"https://min-api.cryptocompare.com/data/{}?fsym={}&tsym=USD&limit={}&toTs={}&api_key={}\".format(time_period, coin, prediction_length, timestamp,apiKey)\n",
    "    \n",
    "    social_url = \"https://min-api.cryptocompare.com/data/social/coin/histo/{}?coinId={}&aggregate={}&limit={}&toTs={}&api_key={}\"\\\n",
    "        .format(time_frequency, coinID, agg, prediction_length, timestamp ,apiKey)\n",
    "    \n",
    "\n",
    "    # get data\n",
    "    price = requests.get(price_url).json()\n",
    "    social = requests.get(social_url).json()\n",
    "    \n",
    "    # deal with price\n",
    "    price_df = pd.DataFrame(price['Data'])\n",
    "    price_df['date/hour'] = pd.to_datetime(price_df['time'], unit='s') \n",
    "    price_df.set_index('date/hour', inplace=True)\n",
    "    return_df = price_to_return(price_df,'close')\n",
    "    \n",
    "    # deal with news\n",
    "    news_ts = timestamp\n",
    "    from_t = news_ts - (prediction_length * 3600) - 86400\n",
    "    holder = []\n",
    "    while news_ts > from_t:\n",
    "        news_data = get_news_data_spec(cat, news_ts, apiKey, lang)\n",
    "        news_df = pd.DataFrame(news_data['Data'])\n",
    "        holder.append(news_df)\n",
    "        news_ts = news_df['published_on'].min()        \n",
    "    df = pd.concat(holder, axis = 0)\n",
    "    df = df[df['published_on']>from_t]\n",
    "    df['time'] = df['published_on'].apply(lambda x: datetime.datetime.fromtimestamp(x).strftime(\"%Y-%m-%d\"))\n",
    "    news = df.set_index('time')\n",
    "    # get news sentiment\n",
    "    news['news_content'] = news['title'] + news['body']\n",
    "    news['vader_polarity'] = news['news_content'].apply(lambda x: sia.polarity_scores(x))\n",
    "    news['vader_compound'] = news['vader_polarity'].apply(lambda x: x['compound'])\n",
    "    news['vader_neg'] = news['vader_polarity'].apply(lambda x: x['neg'])\n",
    "    news['vader_neu'] = news['vader_polarity'].apply(lambda x: x['neu'])\n",
    "    news['vader_pos'] = news['vader_polarity'].apply(lambda x: x['pos'])\n",
    "    news = news[['id','published_on','vader_compound','vader_neg','vader_neu','vader_pos']]\n",
    "    return_news_df = get_ticker_sentiment(return_df, news)\n",
    "    \n",
    "    # deal with social\n",
    "    social_df = pd.DataFrame(social['Data'])\n",
    "    social_df.set_index('time',inplace = True)\n",
    "    coin_complete = get_ticker_social(return_news_df,social_df)\n",
    "    \n",
    "    # complete df\n",
    "    coin_complete['time'] = pd.to_datetime(coin_complete['time'], unit='s')\n",
    "    coin_complete['time'] = coin_complete['time'].dt.strftime('%Y-%m-%d %r')\n",
    "    coin_complete.set_index('time', inplace=True)\n",
    "    \n",
    "    return coin_complete\n",
    "    "
   ]
  },
  {
   "cell_type": "code",
   "execution_count": 27,
   "metadata": {},
   "outputs": [],
   "source": [
    "\n",
    "def pipeline(coin_complete, sequence_length, model):\n",
    "    \n",
    "    coin_complete = coin_complete.replace([np.inf, -np.inf], np.nan)\n",
    "    coin_complete = coin_complete.fillna(0)\n",
    "    \n",
    "    # scale data\n",
    "    max_abs_scaler = MaxAbsScaler()\n",
    "    temp = max_abs_scaler.fit_transform(coin_complete)\n",
    "    temp = pd.DataFrame(temp,columns=coin_complete.columns)\n",
    "    coin_complete = temp.set_index(coin_complete.index)\n",
    "    \n",
    "    x,y = time_series_to_supervised(coin_complete, sequence_length)\n",
    "    \n",
    "    y_predict = model.predict(x)\n",
    "    \n",
    "    return y_predict, y"
   ]
  },
  {
   "cell_type": "code",
   "execution_count": 28,
   "metadata": {},
   "outputs": [],
   "source": [
    "coin_complete = data_preparation(coin, coinID, timeperiod, timefrequency, agg, apiKey, cat, lang, ticker_num, sequence_length)"
   ]
  },
  {
   "cell_type": "code",
   "execution_count": 29,
   "metadata": {},
   "outputs": [
    {
     "ename": "ValueError",
     "evalue": "Unknown layer:name",
     "output_type": "error",
     "traceback": [
      "\u001b[0;31m---------------------------------------------------------------------------\u001b[0m",
      "\u001b[0;31mValueError\u001b[0m                                Traceback (most recent call last)",
      "\u001b[0;32m<ipython-input-29-2f7cf8ab4be9>\u001b[0m in \u001b[0;36m<module>\u001b[0;34m()\u001b[0m\n\u001b[0;32m----> 1\u001b[0;31m \u001b[0mcoin_model\u001b[0m \u001b[0;34m=\u001b[0m \u001b[0mload_model\u001b[0m\u001b[0;34m(\u001b[0m\u001b[0;34m'coin_model_1.h5'\u001b[0m\u001b[0;34m)\u001b[0m\u001b[0;34m\u001b[0m\u001b[0;34m\u001b[0m\u001b[0m\n\u001b[0m",
      "\u001b[0;32m/opt/anaconda3/lib/python3.6/site-packages/tensorflow/python/keras/engine/saving.py\u001b[0m in \u001b[0;36mload_model\u001b[0;34m(filepath, custom_objects, compile)\u001b[0m\n\u001b[1;32m    227\u001b[0m       \u001b[0;32mraise\u001b[0m \u001b[0mValueError\u001b[0m\u001b[0;34m(\u001b[0m\u001b[0;34m'No model found in config file.'\u001b[0m\u001b[0;34m)\u001b[0m\u001b[0;34m\u001b[0m\u001b[0;34m\u001b[0m\u001b[0m\n\u001b[1;32m    228\u001b[0m     \u001b[0mmodel_config\u001b[0m \u001b[0;34m=\u001b[0m \u001b[0mjson\u001b[0m\u001b[0;34m.\u001b[0m\u001b[0mloads\u001b[0m\u001b[0;34m(\u001b[0m\u001b[0mmodel_config\u001b[0m\u001b[0;34m.\u001b[0m\u001b[0mdecode\u001b[0m\u001b[0;34m(\u001b[0m\u001b[0;34m'utf-8'\u001b[0m\u001b[0;34m)\u001b[0m\u001b[0;34m)\u001b[0m\u001b[0;34m\u001b[0m\u001b[0;34m\u001b[0m\u001b[0m\n\u001b[0;32m--> 229\u001b[0;31m     \u001b[0mmodel\u001b[0m \u001b[0;34m=\u001b[0m \u001b[0mmodel_from_config\u001b[0m\u001b[0;34m(\u001b[0m\u001b[0mmodel_config\u001b[0m\u001b[0;34m,\u001b[0m \u001b[0mcustom_objects\u001b[0m\u001b[0;34m=\u001b[0m\u001b[0mcustom_objects\u001b[0m\u001b[0;34m)\u001b[0m\u001b[0;34m\u001b[0m\u001b[0;34m\u001b[0m\u001b[0m\n\u001b[0m\u001b[1;32m    230\u001b[0m \u001b[0;34m\u001b[0m\u001b[0m\n\u001b[1;32m    231\u001b[0m     \u001b[0;31m# set weights\u001b[0m\u001b[0;34m\u001b[0m\u001b[0;34m\u001b[0m\u001b[0;34m\u001b[0m\u001b[0m\n",
      "\u001b[0;32m/opt/anaconda3/lib/python3.6/site-packages/tensorflow/python/keras/engine/saving.py\u001b[0m in \u001b[0;36mmodel_from_config\u001b[0;34m(config, custom_objects)\u001b[0m\n\u001b[1;32m    304\u001b[0m                     '`Sequential.from_config(config)`?')\n\u001b[1;32m    305\u001b[0m   \u001b[0;32mfrom\u001b[0m \u001b[0mtensorflow\u001b[0m\u001b[0;34m.\u001b[0m\u001b[0mpython\u001b[0m\u001b[0;34m.\u001b[0m\u001b[0mkeras\u001b[0m\u001b[0;34m.\u001b[0m\u001b[0mlayers\u001b[0m \u001b[0;32mimport\u001b[0m \u001b[0mdeserialize\u001b[0m  \u001b[0;31m# pylint: disable=g-import-not-at-top\u001b[0m\u001b[0;34m\u001b[0m\u001b[0;34m\u001b[0m\u001b[0m\n\u001b[0;32m--> 306\u001b[0;31m   \u001b[0;32mreturn\u001b[0m \u001b[0mdeserialize\u001b[0m\u001b[0;34m(\u001b[0m\u001b[0mconfig\u001b[0m\u001b[0;34m,\u001b[0m \u001b[0mcustom_objects\u001b[0m\u001b[0;34m=\u001b[0m\u001b[0mcustom_objects\u001b[0m\u001b[0;34m)\u001b[0m\u001b[0;34m\u001b[0m\u001b[0;34m\u001b[0m\u001b[0m\n\u001b[0m\u001b[1;32m    307\u001b[0m \u001b[0;34m\u001b[0m\u001b[0m\n\u001b[1;32m    308\u001b[0m \u001b[0;34m\u001b[0m\u001b[0m\n",
      "\u001b[0;32m/opt/anaconda3/lib/python3.6/site-packages/tensorflow/python/keras/layers/serialization.py\u001b[0m in \u001b[0;36mdeserialize\u001b[0;34m(config, custom_objects)\u001b[0m\n\u001b[1;32m     62\u001b[0m       \u001b[0mmodule_objects\u001b[0m\u001b[0;34m=\u001b[0m\u001b[0mglobs\u001b[0m\u001b[0;34m,\u001b[0m\u001b[0;34m\u001b[0m\u001b[0;34m\u001b[0m\u001b[0m\n\u001b[1;32m     63\u001b[0m       \u001b[0mcustom_objects\u001b[0m\u001b[0;34m=\u001b[0m\u001b[0mcustom_objects\u001b[0m\u001b[0;34m,\u001b[0m\u001b[0;34m\u001b[0m\u001b[0;34m\u001b[0m\u001b[0m\n\u001b[0;32m---> 64\u001b[0;31m       printable_module_name='layer')\n\u001b[0m",
      "\u001b[0;32m/opt/anaconda3/lib/python3.6/site-packages/tensorflow/python/keras/utils/generic_utils.py\u001b[0m in \u001b[0;36mdeserialize_keras_object\u001b[0;34m(identifier, module_objects, custom_objects, printable_module_name)\u001b[0m\n\u001b[1;32m    171\u001b[0m             custom_objects=dict(\n\u001b[1;32m    172\u001b[0m                 \u001b[0mlist\u001b[0m\u001b[0;34m(\u001b[0m\u001b[0m_GLOBAL_CUSTOM_OBJECTS\u001b[0m\u001b[0;34m.\u001b[0m\u001b[0mitems\u001b[0m\u001b[0;34m(\u001b[0m\u001b[0;34m)\u001b[0m\u001b[0;34m)\u001b[0m \u001b[0;34m+\u001b[0m\u001b[0;34m\u001b[0m\u001b[0;34m\u001b[0m\u001b[0m\n\u001b[0;32m--> 173\u001b[0;31m                 list(custom_objects.items())))\n\u001b[0m\u001b[1;32m    174\u001b[0m       \u001b[0;32mwith\u001b[0m \u001b[0mCustomObjectScope\u001b[0m\u001b[0;34m(\u001b[0m\u001b[0mcustom_objects\u001b[0m\u001b[0;34m)\u001b[0m\u001b[0;34m:\u001b[0m\u001b[0;34m\u001b[0m\u001b[0;34m\u001b[0m\u001b[0m\n\u001b[1;32m    175\u001b[0m         \u001b[0;32mreturn\u001b[0m \u001b[0mcls\u001b[0m\u001b[0;34m.\u001b[0m\u001b[0mfrom_config\u001b[0m\u001b[0;34m(\u001b[0m\u001b[0mconfig\u001b[0m\u001b[0;34m[\u001b[0m\u001b[0;34m'config'\u001b[0m\u001b[0;34m]\u001b[0m\u001b[0;34m)\u001b[0m\u001b[0;34m\u001b[0m\u001b[0;34m\u001b[0m\u001b[0m\n",
      "\u001b[0;32m/opt/anaconda3/lib/python3.6/site-packages/tensorflow/python/keras/engine/sequential.py\u001b[0m in \u001b[0;36mfrom_config\u001b[0;34m(cls, config, custom_objects)\u001b[0m\n\u001b[1;32m    284\u001b[0m     \u001b[0mmodel\u001b[0m \u001b[0;34m=\u001b[0m \u001b[0mcls\u001b[0m\u001b[0;34m(\u001b[0m\u001b[0;34m)\u001b[0m\u001b[0;34m\u001b[0m\u001b[0;34m\u001b[0m\u001b[0m\n\u001b[1;32m    285\u001b[0m     \u001b[0;32mfor\u001b[0m \u001b[0mconf\u001b[0m \u001b[0;32min\u001b[0m \u001b[0mconfig\u001b[0m\u001b[0;34m:\u001b[0m\u001b[0;34m\u001b[0m\u001b[0;34m\u001b[0m\u001b[0m\n\u001b[0;32m--> 286\u001b[0;31m       \u001b[0mlayer\u001b[0m \u001b[0;34m=\u001b[0m \u001b[0mlayer_module\u001b[0m\u001b[0;34m.\u001b[0m\u001b[0mdeserialize\u001b[0m\u001b[0;34m(\u001b[0m\u001b[0mconf\u001b[0m\u001b[0;34m,\u001b[0m \u001b[0mcustom_objects\u001b[0m\u001b[0;34m=\u001b[0m\u001b[0mcustom_objects\u001b[0m\u001b[0;34m)\u001b[0m\u001b[0;34m\u001b[0m\u001b[0;34m\u001b[0m\u001b[0m\n\u001b[0m\u001b[1;32m    287\u001b[0m       \u001b[0mmodel\u001b[0m\u001b[0;34m.\u001b[0m\u001b[0madd\u001b[0m\u001b[0;34m(\u001b[0m\u001b[0mlayer\u001b[0m\u001b[0;34m)\u001b[0m\u001b[0;34m\u001b[0m\u001b[0;34m\u001b[0m\u001b[0m\n\u001b[1;32m    288\u001b[0m     \u001b[0;32mreturn\u001b[0m \u001b[0mmodel\u001b[0m\u001b[0;34m\u001b[0m\u001b[0;34m\u001b[0m\u001b[0m\n",
      "\u001b[0;32m/opt/anaconda3/lib/python3.6/site-packages/tensorflow/python/keras/layers/serialization.py\u001b[0m in \u001b[0;36mdeserialize\u001b[0;34m(config, custom_objects)\u001b[0m\n\u001b[1;32m     62\u001b[0m       \u001b[0mmodule_objects\u001b[0m\u001b[0;34m=\u001b[0m\u001b[0mglobs\u001b[0m\u001b[0;34m,\u001b[0m\u001b[0;34m\u001b[0m\u001b[0;34m\u001b[0m\u001b[0m\n\u001b[1;32m     63\u001b[0m       \u001b[0mcustom_objects\u001b[0m\u001b[0;34m=\u001b[0m\u001b[0mcustom_objects\u001b[0m\u001b[0;34m,\u001b[0m\u001b[0;34m\u001b[0m\u001b[0;34m\u001b[0m\u001b[0m\n\u001b[0;32m---> 64\u001b[0;31m       printable_module_name='layer')\n\u001b[0m",
      "\u001b[0;32m/opt/anaconda3/lib/python3.6/site-packages/tensorflow/python/keras/utils/generic_utils.py\u001b[0m in \u001b[0;36mdeserialize_keras_object\u001b[0;34m(identifier, module_objects, custom_objects, printable_module_name)\u001b[0m\n\u001b[1;32m    191\u001b[0m       \u001b[0;32mif\u001b[0m \u001b[0mfn\u001b[0m \u001b[0;32mis\u001b[0m \u001b[0;32mNone\u001b[0m\u001b[0;34m:\u001b[0m\u001b[0;34m\u001b[0m\u001b[0;34m\u001b[0m\u001b[0m\n\u001b[1;32m    192\u001b[0m         raise ValueError('Unknown ' + printable_module_name + ':' +\n\u001b[0;32m--> 193\u001b[0;31m                          function_name)\n\u001b[0m\u001b[1;32m    194\u001b[0m     \u001b[0;32mreturn\u001b[0m \u001b[0mfn\u001b[0m\u001b[0;34m\u001b[0m\u001b[0;34m\u001b[0m\u001b[0m\n\u001b[1;32m    195\u001b[0m   \u001b[0;32melse\u001b[0m\u001b[0;34m:\u001b[0m\u001b[0;34m\u001b[0m\u001b[0;34m\u001b[0m\u001b[0m\n",
      "\u001b[0;31mValueError\u001b[0m: Unknown layer:name"
     ]
    }
   ],
   "source": [
    "coin_model = load_model('coin_model_1.h5')"
   ]
  },
  {
   "cell_type": "code",
   "execution_count": 22,
   "metadata": {},
   "outputs": [],
   "source": [
    "x, y = pipeline(coin_complete, sequence_length, 1)"
   ]
  },
  {
   "cell_type": "code",
   "execution_count": 26,
   "metadata": {},
   "outputs": [
    {
     "data": {
      "text/plain": [
       "(24,)"
      ]
     },
     "execution_count": 26,
     "metadata": {},
     "output_type": "execute_result"
    }
   ],
   "source": []
  },
  {
   "cell_type": "code",
   "execution_count": 199,
   "metadata": {},
   "outputs": [
    {
     "data": {
      "text/plain": [
       "(1, 49, 42)"
      ]
     },
     "execution_count": 199,
     "metadata": {},
     "output_type": "execute_result"
    }
   ],
   "source": [
    "x.shape"
   ]
  },
  {
   "cell_type": "code",
   "execution_count": 15,
   "metadata": {},
   "outputs": [
    {
     "data": {
      "text/plain": [
       "(73, 42)"
      ]
     },
     "execution_count": 15,
     "metadata": {},
     "output_type": "execute_result"
    }
   ],
   "source": []
  },
  {
   "cell_type": "code",
   "execution_count": null,
   "metadata": {},
   "outputs": [],
   "source": []
  }
 ],
 "metadata": {
  "kernelspec": {
   "display_name": "Python 3",
   "language": "python",
   "name": "python3"
  },
  "language_info": {
   "codemirror_mode": {
    "name": "ipython",
    "version": 3
   },
   "file_extension": ".py",
   "mimetype": "text/x-python",
   "name": "python",
   "nbconvert_exporter": "python",
   "pygments_lexer": "ipython3",
   "version": "3.6.7"
  }
 },
 "nbformat": 4,
 "nbformat_minor": 2
}
