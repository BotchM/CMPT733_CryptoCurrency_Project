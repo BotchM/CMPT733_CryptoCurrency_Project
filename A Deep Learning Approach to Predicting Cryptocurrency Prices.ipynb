{
 "cells": [
  {
   "cell_type": "markdown",
   "metadata": {},
   "source": [
    " # A Deep Learning Approach to Predicting Cryptocurrency Prices (Ethereum, Bitcoin, etc.)\n",
    " \n",
    "##### We will Implement a recurrent neural network to predict bitcoin prices\n",
    "\n",
    "![alt text](https://dashee87.github.io/images/bitcoin_ether_training_test.png \"Logo Title Text 1\")\n",
    " "
   ]
  },
  {
   "cell_type": "code",
   "execution_count": 1,
   "metadata": {},
   "outputs": [],
   "source": [
    "## Keras for deep learning\n",
    "from tensorflow.keras.layers import Dense, Activation, Dropout\n",
    "from tensorflow.keras.layers import LSTM\n",
    "from tensorflow.keras.layers import Bidirectional\n",
    "from tensorflow.keras.models import Sequential\n",
    "\n",
    "## Scikit learn for mapping metrics\n",
    "from sklearn.metrics import mean_squared_error\n",
    "\n",
    "#for logging\n",
    "import time\n",
    "\n",
    "##matrix math\n",
    "import numpy as np\n",
    "import math\n",
    "\n",
    "##plotting\n",
    "import matplotlib.pyplot as plt\n",
    "\n",
    "##data processing\n",
    "import pandas as pd"
   ]
  },
  {
   "cell_type": "markdown",
   "metadata": {},
   "source": [
    "![alt text](http://2.bp.blogspot.com/-wuinSTn-X4A/UwHmmceDQqI/AAAAAAAAJFo/5EjPg-LpAJc/s1600/Sivakumar_Vellingiri_Normal_Forms_Poster.Jpeg \"Logo Title Text 1\")\n",
    "\n",
    "# Step 1 - Data Processing\n",
    "\n",
    "- The data is inputed as a .csv file.\n",
    "- Lets time-series transform data from (num days x num features) to (num days- window size x num days per sample x num features) where window size is 50\n",
    "- Normalization via dividing each value in the window by the first value of the window and then subtracting one.i.e [4,3,2] into [0, -0.25, -0.5]. .\n",
    "- The unnormalized bases are kept to compare the model's predictions of prices with the true prices. \n",
    "- The first 90% of the data is used in training the model, and the last 10% will be used to test the model. \n",
    "- A list of the prices before each day Y_test is drawn from will be compiled in order to generate statistics about the model's predictions\n",
    "\n",
    "======================================================================================================================\n",
    "\n",
    "The columns of data and their definitions are as follows: \n",
    "- Annual Hash Growth: Growth in the total network computations over the past 365 days\n",
    "- Block Height: The total number of blocks in the blockchain\n",
    "- Block Interval: Average amount of time between blocks\n",
    "- Block Size: The storage size of each block (i.e. megabytes)\n",
    "- BlockChain Size: The storage size of the blockchain (i.e. gigabytes)\n",
    "- Daily Blocks: Number of blocks found each day\n",
    "- Chain Value Density: The value of bitcoin's blockchain, in terms of dollars per megabyte\n",
    "- Daily Transactions: The number of transactions included in the blockchain per day\n",
    "- Difficulty: The minimum proof-of-work threshold required for a bitcoin miner to mine a block\n",
    "- Fee Percentage: Average fee paid as a percentage of transaction volume\n",
    "- Fee Rate: Average fee paid per transaction\n",
    "- Two-Week Hash Growth: Growth in the total network computations over the past 14 days\n",
    "- Hash Rate: The number of block solutions computed per second by all miners\n",
    "- Market Capitalization: The market value of all bitcoin in circulation\n",
    "- Metcalfe's Law - TX: A variant of Metcalfe's Law in which price is divided by n log n number of daily transactions\n",
    "- Metcalfe's Law - UTXO: A variant of Metcalfe's Law in which price is divided by n log n number of unspent transaction outputs\n",
    "- Miner Revenue Value: The amount of dollars earned by the mining network\n",
    "- Miner Revenue: The amount of bitcoin earned by the mining network, in the form of block rewards and transaction fees\n",
    "- Money Supply: The amount of bitcoin in circulation\n",
    "- Output Value: The dollar value of all outputs sent over the network\n",
    "- Output Volume: The amount of Bitcoin sent over the network\n",
    "- Bitcoin Price: The amount of dollars a single bitcoin is worth\n",
    "- Quarterly Hash Growth: Growth in the total network computations in the past 90 days\n",
    "- Total Transactions: The running total number of transactions processed by the Bitcoin network\n",
    "- Transaction Amount: The average amount of bitcoin moved per transaction\n",
    "- Fees Value: The dollar value of mining fees\n",
    "- Transaction Fees: The amount of bitcoin paid to miners in fees\n",
    "- Transaction Size: The average data size of a transaction\n",
    "- Transaction Value: The average dollar value moved in each transaction\n",
    "- Transactions per Block: The number of transactions in each block\n",
    "- Average UTXO Amount: The average amount of bitcoin contained in each unspent transaction output\n",
    "- UTXO Growth: The net number of unspent transaction outputs created\n",
    "- UTXO Set Size: The total number of unspent transaction outputs\n",
    "- Average UTXO Value: The average dollar value of each uspent transaction output\n",
    "- Velocity - Daily: The proportion of the money supply transacted each day\n",
    "- Velocity - Quarterly: The proportion of the money supply transacted each day, computed on a rolling-quarter basis\n",
    "- Velocity of Money: How many times the money supply changes hands in a given year"
   ]
  },
  {
   "cell_type": "code",
   "execution_count": 2,
   "metadata": {},
   "outputs": [],
   "source": [
    "x = np.array([[[1,2,3], [4,5,6]],[[1,2,3], [4,5,6]]])"
   ]
  },
  {
   "cell_type": "code",
   "execution_count": 3,
   "metadata": {},
   "outputs": [
    {
     "data": {
      "text/plain": [
       "(2, 3)"
      ]
     },
     "execution_count": 3,
     "metadata": {},
     "output_type": "execute_result"
    }
   ],
   "source": [
    "x[:,1].shape"
   ]
  },
  {
   "cell_type": "code",
   "execution_count": 4,
   "metadata": {},
   "outputs": [
    {
     "data": {
      "text/plain": [
       "(2, 2, 3)"
      ]
     },
     "execution_count": 4,
     "metadata": {},
     "output_type": "execute_result"
    }
   ],
   "source": [
    "x.shape"
   ]
  },
  {
   "cell_type": "code",
   "execution_count": 5,
   "metadata": {},
   "outputs": [],
   "source": [
    "def load_data(filename, sequence_length):\n",
    "    \"\"\"\n",
    "    Loads the bitcoin data\n",
    "    \n",
    "    Arguments:\n",
    "    filename -- A string that represents where the .csv file can be located\n",
    "    sequence_length -- An integer of how many days should be looked at in a row\n",
    "    \n",
    "    Returns:\n",
    "    X_train -- A tensor of shape (2400, 49, 35) that will be inputed into the model to train it\n",
    "    Y_train -- A tensor of shape (2400,) that will be inputed into the model to train it\n",
    "    X_test -- A tensor of shape (267, 49, 35) that will be used to test the model's proficiency\n",
    "    Y_test -- A tensor of shape (267,) that will be used to check the model's predictions\n",
    "    Y_daybefore -- A tensor of shape (267,) that represents the price of bitcoin the day before each Y_test value\n",
    "    unnormalized_bases -- A tensor of shape (267,) that will be used to get the true prices from the normalized ones\n",
    "    window_size -- An integer that represents how many days of X values the model can look at at once\n",
    "    \"\"\"\n",
    "    #Read the data file\n",
    "    raw_data = pd.read_csv(filename, dtype = float).values\n",
    "    \n",
    "    #Change all zeros to the number before the zero occurs\n",
    "    for x in range(0, raw_data.shape[0]):\n",
    "        for y in range(0, raw_data.shape[1]):\n",
    "            if(raw_data[x][y] == 0):\n",
    "                raw_data[x][y] = raw_data[x-1][y]\n",
    "    \n",
    "    #Convert the file to a list\n",
    "    data = raw_data.tolist()\n",
    "    \n",
    "    #Convert the data to a 3D array (a x b x c) \n",
    "    #Where a is the number of days, b is the window size, and c is the number of features in the data file\n",
    "    result = []\n",
    "    for index in range(len(data) - sequence_length):\n",
    "        result.append(data[index: index + sequence_length])\n",
    "    \n",
    "    #Normalizing data by going through each window\n",
    "    #Every value in the window is divided by the first value in the window, and then 1 is subtracted\n",
    "    d0 = np.array(result)\n",
    "    dr = np.zeros_like(d0)\n",
    "    dr[:,1:,:] = d0[:,1:,:] / d0[:,0:1,:] - 1\n",
    "    \n",
    "    #Keeping the unnormalized prices for Y_test\n",
    "    #Useful when graphing bitcoin price over time later\n",
    "    start = 2400\n",
    "    end = int(dr.shape[0] + 1)\n",
    "    unnormalized_bases = d0[start:end,0:1,20]\n",
    "    \n",
    "    #Splitting data set into training (First 90% of data points) and testing data (last 10% of data points)\n",
    "    split_line = round(0.9 * dr.shape[0])\n",
    "    training_data = dr[:int(split_line), :]\n",
    "    \n",
    "    #Shuffle the data\n",
    "    np.random.shuffle(training_data)\n",
    "    \n",
    "    #Training Data\n",
    "    X_train = training_data[:, :-1]\n",
    "    Y_train = training_data[:, -1]\n",
    "    Y_train = Y_train[:, 20]\n",
    "    \n",
    "    #Testing data\n",
    "    X_test = dr[int(split_line):, :-1]\n",
    "    Y_test = dr[int(split_line):, 49, :]\n",
    "    Y_test = Y_test[:, 20]\n",
    "\n",
    "    #Get the day before Y_test's price\n",
    "    Y_daybefore = dr[int(split_line):, 48, :]\n",
    "    Y_daybefore = Y_daybefore[:, 20]\n",
    "    \n",
    "    #Get window size and sequence length\n",
    "    sequence_length = sequence_length\n",
    "    window_size = sequence_length - 1 #because the last value is reserved as the y value\n",
    "    \n",
    "    return X_train, Y_train, X_test, Y_test, Y_daybefore, unnormalized_bases, window_size"
   ]
  },
  {
   "cell_type": "markdown",
   "metadata": {},
   "source": [
    "# Step 2 - Building the Model\n",
    "\n",
    "- We'll use a 3layer RNN with  20% dropout at each layer to reduce overfitting to the training data. \n",
    "- This model will have 515,579 trainable parameters throughout all of its layers. \n",
    "- The model uses the AdamOptimizer as its optimization function.\n",
    "- The loss function used in this model is mean squared error. \n",
    "- A linear activation function is used in this model to determine the output of each neuron in the model. The linear activation function is simply defined as f(x) = x.\n",
    "- The model will use Keras's Sequential model with Bidirectional LSTM layers."
   ]
  },
  {
   "cell_type": "markdown",
   "metadata": {},
   "source": [
    "![alt text](http://d3kbpzbmcynnmx.cloudfront.net/wp-content/uploads/2015/09/rnn.jpg \"Logo Title Text 1\")\n",
    "![alt text](https://docs.microsoft.com/en-us/azure/machine-learning/preview/media/scenario-tdsp-biomedical-recognition/lstm-cell.png \"Logo Title Text 1\")\n",
    "![alt text](http://d3kbpzbmcynnmx.cloudfront.net/wp-content/uploads/2015/09/bidirectional-rnn.png \"Logo Title Text 1\")\n",
    "![alt text](https://3qeqpr26caki16dnhd19sv6by6v-wpengine.netdna-ssl.com/wp-content/uploads/2017/05/Comparison-of-Adam-to-Other-Optimization-Algorithms-Training-a-Multilayer-Perceptron.png \"Logo Title Text 1\")\n",
    "\n",
    "\n",
    "Bidirectional RNNs are based on the idea that the output at time t may not only depend on the previous elements in the sequence, but also future elements. For example, to predict a missing word in a sequence you want to look at both the left and the right context. Bidirectional RNNs are quite simple. They are just two RNNs stacked on top of each other. The output is then computed based on the hidden state of both RNNs."
   ]
  },
  {
   "cell_type": "code",
   "execution_count": 6,
   "metadata": {},
   "outputs": [],
   "source": [
    "def initialize_model(window_size, dropout_value, activation_function, loss_function, optimizer):\n",
    "    \"\"\"\n",
    "    Initializes and creates the model to be used\n",
    "    \n",
    "    Arguments:\n",
    "    window_size -- An integer that represents how many days of X_values the model can look at at once\n",
    "    dropout_value -- A decimal representing how much dropout should be incorporated at each level, in this case 0.2\n",
    "    activation_function -- A string to define the activation_function, in this case it is linear\n",
    "    loss_function -- A string to define the loss function to be used, in the case it is mean squared error\n",
    "    optimizer -- A string to define the optimizer to be used, in the case it is adam\n",
    "    \n",
    "    Returns:\n",
    "    model -- A 3 layer RNN with 100*dropout_value dropout in each layer that uses activation_function as its activation\n",
    "             function, loss_function as its loss function, and optimizer as its optimizer\n",
    "    \"\"\"\n",
    "    #Create a Sequential model using Keras\n",
    "    model = Sequential()\n",
    "\n",
    "    #First recurrent layer with dropout\n",
    "    model.add(Bidirectional(LSTM(window_size, return_sequences=True), input_shape=(window_size, X_train.shape[-1]),))\n",
    "    model.add(Dropout(dropout_value))\n",
    "\n",
    "    #Second recurrent layer with dropout\n",
    "    model.add(Bidirectional(LSTM((window_size*2), return_sequences=True)))\n",
    "    model.add(Dropout(dropout_value))\n",
    "\n",
    "    #Third recurrent layer\n",
    "    model.add(Bidirectional(LSTM(window_size, return_sequences=False)))\n",
    "\n",
    "    #Output layer (returns the predicted value)\n",
    "    model.add(Dense(units=1))\n",
    "    \n",
    "    #Set activation function\n",
    "    model.add(Activation(activation_function))\n",
    "\n",
    "    #Set loss function and optimizer\n",
    "    model.compile(loss=loss_function, optimizer=optimizer)\n",
    "    \n",
    "    return model"
   ]
  },
  {
   "cell_type": "markdown",
   "metadata": {},
   "source": [
    "# Step 3 - Training the Model\n",
    "\n",
    "- The model will be fitted to the training dat with a batch_size of 1024. \n",
    "- Additionally, 100 epochs will be performed to give the model time to adjust its weights and biases to fit the training data.\n",
    "- 5% of the training data will be used as the validation set.  \n",
    "- The model will train by minimizing the loss (mean squared error) of its training data. -- - The validation set is useful when attempting to identify signs of overfitting. \n",
    "- If the validation loss begins to consistently and rapidly increase, the model has overfitted to the training data, and changes should be made to the model. \n"
   ]
  },
  {
   "cell_type": "code",
   "execution_count": 7,
   "metadata": {
    "scrolled": true
   },
   "outputs": [],
   "source": [
    "def fit_model(model, X_train, Y_train, batch_num, num_epoch, val_split):\n",
    "    \"\"\"\n",
    "    Fits the model to the training data\n",
    "    \n",
    "    Arguments:\n",
    "    model -- The previously initalized 3 layer Recurrent Neural Network\n",
    "    X_train -- A tensor of shape (2400, 49, 35) that represents the x values of the training data\n",
    "    Y_train -- A tensor of shape (2400,) that represents the y values of the training data\n",
    "    batch_num -- An integer representing the batch size to be used, in this case 1024\n",
    "    num_epoch -- An integer defining the number of epochs to be run, in this case 100\n",
    "    val_split -- A decimal representing the proportion of training data to be used as validation data\n",
    "    \n",
    "    Returns:\n",
    "    model -- The 3 layer Recurrent Neural Network that has been fitted to the training data\n",
    "    training_time -- An integer representing the amount of time (in seconds) that the model was training\n",
    "    \"\"\"\n",
    "    #Record the time the model starts training\n",
    "    start = time.time()\n",
    "\n",
    "    #Train the model on X_train and Y_train\n",
    "    model.fit(X_train, Y_train, batch_size= batch_num, nb_epoch=num_epoch, validation_split= val_split)\n",
    "\n",
    "    #Get the time it took to train the model (in seconds)\n",
    "    training_time = int(math.floor(time.time() - start))\n",
    "    return model, training_time"
   ]
  },
  {
   "cell_type": "markdown",
   "metadata": {},
   "source": [
    "# Step 4 - Testing the Model\n",
    "\n",
    "- The models given x values of testing data & will predict normalized prices (y_predict)\n",
    "- Then, both the predicted values and the real values will be unnormalized and stored in separate arrays. \n",
    "- The values are unnormalized by looping through the predicted and true values. \n",
    "- 1 is added to each value, and then the result is multiplied by a corresponding number in the unnormalized_bases array. \n",
    "- In other words, the unnormalization processs is the exact reverse of the normalization process\n",
    "- Finally, a plot is created of the unnormalized real values and the unnormalized predicted values. "
   ]
  },
  {
   "cell_type": "code",
   "execution_count": 8,
   "metadata": {
    "scrolled": true
   },
   "outputs": [],
   "source": [
    "def test_model(model, X_test, Y_test, unnormalized_bases):\n",
    "    \"\"\"\n",
    "    Test the model on the testing data\n",
    "    \n",
    "    Arguments:\n",
    "    model -- The previously fitted 3 layer Recurrent Neural Network\n",
    "    X_test -- A tensor of shape (267, 49, 35) that represents the x values of the testing data\n",
    "    Y_test -- A tensor of shape (267,) that represents the y values of the testing data\n",
    "    unnormalized_bases -- A tensor of shape (267,) that can be used to get unnormalized data points\n",
    "    \n",
    "    Returns:\n",
    "    y_predict -- A tensor of shape (267,) that represnts the normalized values that the model predicts based on X_test\n",
    "    real_y_test -- A tensor of shape (267,) that represents the actual prices of bitcoin throughout the testing period\n",
    "    real_y_predict -- A tensor of shape (267,) that represents the model's predicted prices of bitcoin\n",
    "    fig -- A branch of the graph of the real predicted prices of bitcoin versus the real prices of bitcoin\n",
    "    \"\"\"\n",
    "    #Test the model on X_Test\n",
    "    y_predict = model.predict(X_test)\n",
    "\n",
    "    #Create empty 2D arrays to store unnormalized values\n",
    "    real_y_test = np.zeros_like(Y_test)\n",
    "    real_y_predict = np.zeros_like(y_predict)\n",
    "\n",
    "    #Fill the 2D arrays with the real value and the predicted value by reversing the normalization process\n",
    "    for i in range(Y_test.shape[0]):\n",
    "        y = Y_test[i]\n",
    "        predict = y_predict[i]\n",
    "        real_y_test[i] = (y+1)*unnormalized_bases[i]\n",
    "        real_y_predict[i] = (predict+1)*unnormalized_bases[i]\n",
    "\n",
    "    #Plot of the predicted prices versus the real prices\n",
    "    fig = plt.figure(figsize=(10,5))\n",
    "    ax = fig.add_subplot(111)\n",
    "    ax.set_title(\"Bitcoin Price Over Time\")\n",
    "    plt.plot(real_y_predict, color = 'green', label = 'Predicted Price')\n",
    "    plt.plot(real_y_test, color = 'red', label = 'Real Price')\n",
    "    ax.set_ylabel(\"Price (USD)\")\n",
    "    ax.set_xlabel(\"Time (Days)\")\n",
    "    ax.legend()\n",
    "    \n",
    "    return y_predict, real_y_test, real_y_predict, fig"
   ]
  },
  {
   "cell_type": "markdown",
   "metadata": {},
   "source": [
    "# Step 5 - Evaluating Change in Price\n",
    "\n",
    "- Lets plot the model's predicted change in price each day against the real change in price daily\n",
    "- The percent increases of the predicted values and the real values are calculated by subtracting the value from the day before from the predicted/real value then dividing the result by 1+the value from the day before. \n",
    "- The predicted change in price is stored in delta_predict, while the real change in price is stored in delta_real.\n",
    "- These two tensors are then graphed together to visualize the difference between predicted and real change in price for bitcoin throughout the testing period. \n",
    "- The plot will represent the percent change in bitcoin price each day. "
   ]
  },
  {
   "cell_type": "code",
   "execution_count": 9,
   "metadata": {},
   "outputs": [],
   "source": [
    "def price_change(Y_daybefore, Y_test, y_predict):\n",
    "    \"\"\"\n",
    "    Calculate the percent change between each value and the day before\n",
    "    \n",
    "    Arguments:\n",
    "    Y_daybefore -- A tensor of shape (267,) that represents the prices of each day before each price in Y_test\n",
    "    Y_test -- A tensor of shape (267,) that represents the normalized y values of the testing data\n",
    "    y_predict -- A tensor of shape (267,) that represents the normalized y values of the model's predictions\n",
    "    \n",
    "    Returns:\n",
    "    Y_daybefore -- A tensor of shape (267, 1) that represents the prices of each day before each price in Y_test\n",
    "    Y_test -- A tensor of shape (267, 1) that represents the normalized y values of the testing data\n",
    "    delta_predict -- A tensor of shape (267, 1) that represents the difference between predicted and day before values\n",
    "    delta_real -- A tensor of shape (267, 1) that represents the difference between real and day before values\n",
    "    fig -- A plot representing percent change in bitcoin price per day,\n",
    "    \"\"\"\n",
    "    #Reshaping Y_daybefore and Y_test\n",
    "    Y_daybefore = np.reshape(Y_daybefore, (-1, 1))\n",
    "    Y_test = np.reshape(Y_test, (-1, 1))\n",
    "\n",
    "    #The difference between each predicted value and the value from the day befhen subtracting one.i.e [4,3,2] inore\n",
    "    delta_predict = (y_predict - Y_daybefore) / (1+Y_daybefore)\n",
    "\n",
    "    #The difference between each true value and the value from the day before\n",
    "    delta_real = (Y_test - Y_daybefore) / (1+Y_daybefore)\n",
    "\n",
    "    #Plotting the predicted percent change versus the real percent change\n",
    "    fig = plt.figure(figsize=(10, 6))\n",
    "    ax = fig.add_subplot(111)\n",
    "    ax.set_title(\"Percent Change in Bitcoin Price Per Day\")\n",
    "    plt.plot(delta_predict, color='green', label = 'Predicted Percent Change')\n",
    "    plt.plot(delta_real, color='red', label = 'Real Percent Change')\n",
    "    plt.ylabel(\"Percent Change\")\n",
    "    plt.xlabel(\"Time (Days)\")\n",
    "    ax.legend()\n",
    "    plt.show()\n",
    "    \n",
    "    return Y_daybefore, Y_test, delta_predict, delta_real, fig"
   ]
  },
  {
   "cell_type": "markdown",
   "metadata": {},
   "source": [
    "# Step 6 - Process the Percent Change in Price\n",
    "\n",
    "- The percent change in price will be processsed such that an increase in price is represented by a 1, and a decrease/no change is represented by a 0. These binary values will be stored in arrays delta_predict_1_0 and delta_real_1_0. \n",
    "\n",
    "- This will be done by looping through the values of the real and predicted percent change arrays. If a value is greater than 0, a 1 is stored in a new array. Otherwise, a 0 is stored in the new array.\n",
    "\n",
    "- This process is very useful to understand how well the model did, and can be used to gather statistics about the model's performance."
   ]
  },
  {
   "cell_type": "code",
   "execution_count": 10,
   "metadata": {
    "scrolled": true
   },
   "outputs": [],
   "source": [
    "def binary_price(delta_predict, delta_real):\n",
    "    \"\"\"\n",
    "    Converts percent change to a binary 1 or 0, where 1 is an increase and 0 is a decrease/no change\n",
    "    \n",
    "    Arguments:\n",
    "    delta_predict -- A tensor of shape (267, 1) that represents the predicted percent change in price\n",
    "    delta_real -- A tensor of shape (267, 1) that represents the real percent change in price\n",
    "    \n",
    "    Returns:\n",
    "    delta_predict_1_0 -- A tensor of shape (267, 1) that represents the binary version of delta_predict\n",
    "    delta_real_1_0 -- A tensor of shape (267, 1) that represents the binary version of delta_real\n",
    "    \"\"\"\n",
    "    #Empty arrays where a 1 represents an increase in price and a 0 represents a decrease in price\n",
    "    delta_predict_1_0 = np.empty(delta_predict.shape)\n",
    "    delta_real_1_0 = np.empty(delta_real.shape)\n",
    "\n",
    "    #If the change in price is greater than zero, store it as a 1\n",
    "    #If the change in price is less than zero, store it as a 0\n",
    "    for i in range(delta_predict.shape[0]):\n",
    "        if delta_predict[i][0] > 0:\n",
    "            delta_predict_1_0[i][0] = 1\n",
    "        else:\n",
    "            delta_predict_1_0[i][0] = 0\n",
    "    for i in range(delta_real.shape[0]):\n",
    "        if delta_real[i][0] > 0:\n",
    "            delta_real_1_0[i][0] = 1\n",
    "        else:\n",
    "            delta_real_1_0[i][0] = 0    \n",
    "\n",
    "    return delta_predict_1_0, delta_real_1_0"
   ]
  },
  {
   "cell_type": "markdown",
   "metadata": {},
   "source": [
    "# 7 - Comparing Predictions and Real Data\n",
    "\n",
    "The binary categories computed in the previous cell is now used to compare predicted and real data. It will be used to find the number of:\n",
    "- True positives\n",
    "- False positives\n",
    "- True negatives\n",
    "- False negatives\n",
    "These can then be used to further calculate statistics of the model's performance. \n",
    "\n",
    "This will be done by looping through both binary arrays at once and getting the corresponding values. If the real value is a 1 and the predicted value is a 1, that index will be counted as a true positive. If the real value is a 1 and the predicted value is a 0, that index will be counted as a false negative. If the real value is a 0 and the predicted value is a 0, that index will be counted as a true negative. If the real value is a 0 and the predicted value is a 1, that index will be counted as a false positive."
   ]
  },
  {
   "cell_type": "code",
   "execution_count": 11,
   "metadata": {},
   "outputs": [],
   "source": [
    "def find_positives_negatives(delta_predict_1_0, delta_real_1_0):\n",
    "    \"\"\"\n",
    "    Finding the number of false positives, false negatives, true positives, true negatives\n",
    "    \n",
    "    Arguments: \n",
    "    delta_predict_1_0 -- A tensor of shape (267, 1) that represents the binary version of delta_predict\n",
    "    delta_real_1_0 -- A tensor of shape (267, 1) that represents the binary version of delta_real\n",
    "    \n",
    "    Returns:\n",
    "    true_pos -- An integer that represents the number of true positives achieved by the model\n",
    "    false_pos -- An integer that represents the number of false positives achieved by the model\n",
    "    true_neg -- An integer that represents the number of true negatives achieved by the model\n",
    "    false_neg -- An integer that represents the number of false negatives achieved by the model\n",
    "    \"\"\"\n",
    "    #Finding the number of false positive/negatives and true positives/negatives\n",
    "    true_pos = 0\n",
    "    false_pos = 0\n",
    "    true_neg = 0\n",
    "    false_neg = 0\n",
    "    for i in range(delta_real_1_0.shape[0]):\n",
    "        real = delta_real_1_0[i][0]\n",
    "        predicted = delta_predict_1_0[i][0]\n",
    "        if real == 1:\n",
    "            if predicted == 1:\n",
    "                true_pos += 1\n",
    "            else:\n",
    "                false_neg += 1\n",
    "        elif real == 0:\n",
    "            if predicted == 0:\n",
    "                true_neg += 1\n",
    "            else:\n",
    "                false_pos += 1\n",
    "    return true_pos, false_pos, true_neg, false_neg"
   ]
  },
  {
   "cell_type": "markdown",
   "metadata": {},
   "source": [
    "# 8 - Calculating Statistics\n",
    "\n",
    "![alt text](https://www.researchgate.net/profile/Alexandros_Karatzoglou/publication/221515860/figure/fig1/AS:339586132791298@1457975051470/Figure-1-Mean-Squared-Error-formula-used-to-evaluate-the-user-model.ppm \"Logo Title Text 1\")\n",
    "\n",
    "![alt text](https://image.slidesharecdn.com/qconrio-machinelearningforeveryone-150826200704-lva1-app6892/95/qcon-rio-machine-learning-for-everyone-51-638.jpg?cb=1440698161 \"Logo Title Text 1\")\n",
    "\n",
    "\n",
    "Putting everything together and getting statistics about the model. Statistics being calculated include:\n",
    "- Precision: How often the model gets a true positive compared to how often it returns a positive\n",
    "- Recall: How often the model gets a true positive compared to how often it should have gotten a positive\n",
    "- F1 Score: The weighted average of recall and precision\n",
    "- Mean Squared Error: The average of the squares of the differences between predicted and real values"
   ]
  },
  {
   "cell_type": "code",
   "execution_count": 12,
   "metadata": {},
   "outputs": [],
   "source": [
    "def calculate_statistics(true_pos, false_pos, true_neg, false_neg, y_predict, Y_test):\n",
    "    \"\"\"\n",
    "    Calculate various statistics to assess performance\n",
    "    \n",
    "    Arguments:\n",
    "    true_pos -- An integer that represents the number of true positives achieved by the model\n",
    "    false_pos -- An integer that represents the number of false positives achieved by the model\n",
    "    true_neg -- An integer that represents the number of true negatives achieved by the model\n",
    "    false_neg -- An integer that represents the number of false negatives achieved by the model\n",
    "    Y_test -- A tensor of shape (267, 1) that represents the normalized y values of the testing data\n",
    "    y_predict -- A tensor of shape (267, 1) that represents the normalized y values of the model's predictions\n",
    "    \n",
    "    Returns:\n",
    "    precision -- How often the model gets a true positive compared to how often it returns a positive\n",
    "    recall -- How often the model gets a true positive compared to how often is hould have gotten a positive\n",
    "    F1 -- The weighted average of recall and precision\n",
    "    Mean Squared Error -- The average of the squares of the differences between predicted and real values\n",
    "    \"\"\"\n",
    "    precision = float(true_pos) / (true_pos + false_pos)\n",
    "    recall = float(true_pos) / (true_pos + false_neg)\n",
    "    F1 = float(2 * precision * recall) / (precision + recall)\n",
    "    #Get Mean Squared Error\n",
    "    MSE = mean_squared_error(y_predict.flatten(), Y_test.flatten())\n",
    "\n",
    "    return precision, recall, F1, MSE"
   ]
  },
  {
   "cell_type": "markdown",
   "metadata": {},
   "source": [
    "# 9 - Putting It All Together\n",
    "\n",
    "Applying all the methods defined above and analyzing results."
   ]
  },
  {
   "cell_type": "markdown",
   "metadata": {},
   "source": [
    "## Loading the Data"
   ]
  },
  {
   "cell_type": "code",
   "execution_count": 13,
   "metadata": {},
   "outputs": [
    {
     "name": "stdout",
     "output_type": "stream",
     "text": [
      "(4455, 49, 35)\n",
      "(4455,)\n",
      "(495, 49, 35)\n",
      "(495,)\n",
      "(495,)\n",
      "(2550, 1)\n",
      "49\n"
     ]
    }
   ],
   "source": [
    "X_train, Y_train, X_test, Y_test, Y_daybefore, unnormalized_bases, window_size = load_data(\"random_data.csv\", 50)\n",
    "print (X_train.shape)\n",
    "print (Y_train.shape)\n",
    "print (X_test.shape)\n",
    "print (Y_test.shape)\n",
    "print (Y_daybefore.shape)\n",
    "print (unnormalized_bases.shape)\n",
    "print (window_size)"
   ]
  },
  {
   "cell_type": "code",
   "execution_count": 55,
   "metadata": {},
   "outputs": [],
   "source": [
    "pd.DataFrame(np.random.rand(5000, 34)).to_csv('random_data.csv')"
   ]
  },
  {
   "cell_type": "markdown",
   "metadata": {},
   "source": [
    "## Initializing the Model"
   ]
  },
  {
   "cell_type": "code",
   "execution_count": 14,
   "metadata": {},
   "outputs": [
    {
     "name": "stdout",
     "output_type": "stream",
     "text": [
      "Model: \"sequential\"\n",
      "_________________________________________________________________\n",
      "Layer (type)                 Output Shape              Param #   \n",
      "=================================================================\n",
      "bidirectional (Bidirectional (None, 49, 98)            33320     \n",
      "_________________________________________________________________\n",
      "dropout (Dropout)            (None, 49, 98)            0         \n",
      "_________________________________________________________________\n",
      "bidirectional_1 (Bidirection (None, 49, 196)           154448    \n",
      "_________________________________________________________________\n",
      "dropout_1 (Dropout)          (None, 49, 196)           0         \n",
      "_________________________________________________________________\n",
      "bidirectional_2 (Bidirection (None, 98)                96432     \n",
      "_________________________________________________________________\n",
      "dense (Dense)                (None, 1)                 99        \n",
      "_________________________________________________________________\n",
      "activation (Activation)      (None, 1)                 0         \n",
      "=================================================================\n",
      "Total params: 284,299\n",
      "Trainable params: 284,299\n",
      "Non-trainable params: 0\n",
      "_________________________________________________________________\n",
      "None\n"
     ]
    }
   ],
   "source": [
    "model = initialize_model(window_size, 0.2, 'linear', 'mse', 'adam')\n",
    "print (model.summary())"
   ]
  },
  {
   "cell_type": "markdown",
   "metadata": {},
   "source": [
    "## Training the Model"
   ]
  },
  {
   "cell_type": "code",
   "execution_count": 15,
   "metadata": {
    "scrolled": false
   },
   "outputs": [
    {
     "name": "stderr",
     "output_type": "stream",
     "text": [
      "WARNING: Logging before flag parsing goes to stderr.\n",
      "W0404 15:35:03.776890 139804576466752 training.py:692] The `nb_epoch` argument in `fit` has been renamed `epochs`.\n"
     ]
    },
    {
     "name": "stdout",
     "output_type": "stream",
     "text": [
      "Train on 4232 samples, validate on 223 samples\n",
      "Epoch 1/10\n",
      "4232/4232 [==============================] - 6s 2ms/sample - loss: 20219.9751 - val_loss: 1519.3683\n",
      "Epoch 2/10\n",
      "4232/4232 [==============================] - 4s 929us/sample - loss: 20189.7532 - val_loss: 1490.2953\n",
      "Epoch 3/10\n",
      "4232/4232 [==============================] - 4s 866us/sample - loss: 20175.5657 - val_loss: 1467.0077\n",
      "Epoch 4/10\n",
      "4232/4232 [==============================] - 4s 877us/sample - loss: 20153.9396 - val_loss: 1449.9553\n",
      "Epoch 5/10\n",
      "4232/4232 [==============================] - 4s 857us/sample - loss: 20139.6332 - val_loss: 1433.4657\n",
      "Epoch 6/10\n",
      "4232/4232 [==============================] - 3s 818us/sample - loss: 20130.3366 - val_loss: 1417.0037\n",
      "Epoch 7/10\n",
      "4232/4232 [==============================] - 4s 847us/sample - loss: 20116.7070 - val_loss: 1403.8542\n",
      "Epoch 8/10\n",
      "4232/4232 [==============================] - 4s 923us/sample - loss: 20105.5813 - val_loss: 1394.8638\n",
      "Epoch 9/10\n",
      "4232/4232 [==============================] - 4s 901us/sample - loss: 20100.4304 - val_loss: 1387.5776\n",
      "Epoch 10/10\n",
      "4232/4232 [==============================] - 4s 896us/sample - loss: 20092.5608 - val_loss: 1380.5448\n",
      "Training time 41 seconds\n"
     ]
    }
   ],
   "source": [
    "model, training_time = fit_model(model, X_train, Y_train, 1024, 10, .05)\n",
    "\n",
    "#Print the training time\n",
    "print (\"Training time\", training_time, \"seconds\")"
   ]
  },
  {
   "cell_type": "code",
   "execution_count": 16,
   "metadata": {},
   "outputs": [],
   "source": [
    "model.save('model_random.h5')"
   ]
  },
  {
   "cell_type": "markdown",
   "metadata": {},
   "source": [
    "## Testing the Model"
   ]
  },
  {
   "cell_type": "code",
   "execution_count": 58,
   "metadata": {},
   "outputs": [
    {
     "data": {
      "image/png": "[encoded data removed]",
      "text/plain": [
       "<Figure size 720x360 with 1 Axes>"
      ]
     },
     "metadata": {},
     "output_type": "display_data"
    }
   ],
   "source": [
    "y_predict, real_y_test, real_y_predict, fig1 = test_model(model, X_test, Y_test, unnormalized_bases)\n",
    "\n",
    "#Show the plot\n",
    "plt.show(fig1)"
   ]
  },
  {
   "cell_type": "code",
   "execution_count": 50,
   "metadata": {},
   "outputs": [
    {
     "data": {
      "text/plain": [
       "array([], shape=(0, 1), dtype=float64)"
      ]
     },
     "execution_count": 50,
     "metadata": {},
     "output_type": "execute_result"
    }
   ],
   "source": [
    "unnormalized_bases"
   ]
  },
  {
   "cell_type": "markdown",
   "metadata": {},
   "source": [
    "## Plotting Percent Change"
   ]
  },
  {
   "cell_type": "code",
   "execution_count": 59,
   "metadata": {},
   "outputs": [
    {
     "data": {
      "image/png": "[encoded data removed]",
      "text/plain": [
       "<Figure size 720x432 with 1 Axes>"
      ]
     },
     "metadata": {},
     "output_type": "display_data"
    }
   ],
   "source": [
    "Y_daybefore, Y_test, delta_predict, delta_real, fig2 = price_change(Y_daybefore, Y_test, y_predict)\n",
    "\n",
    "#Show the plot\n",
    "plt.show(fig2)"
   ]
  },
  {
   "cell_type": "markdown",
   "metadata": {},
   "source": [
    "## Getting Binary Version of Percent Change"
   ]
  },
  {
   "cell_type": "code",
   "execution_count": 63,
   "metadata": {},
   "outputs": [
    {
     "name": "stdout",
     "output_type": "stream",
     "text": [
      "(495, 1)\n",
      "(495, 1)\n"
     ]
    }
   ],
   "source": [
    "delta_predict_1_0, delta_real_1_0 = binary_price(delta_predict, delta_real)\n",
    "\n",
    "print (delta_predict_1_0.shape)\n",
    "print (delta_real_1_0.shape)"
   ]
  },
  {
   "cell_type": "markdown",
   "metadata": {},
   "source": [
    "## Comparing Predictions and True Data"
   ]
  },
  {
   "cell_type": "code",
   "execution_count": 64,
   "metadata": {},
   "outputs": [
    {
     "name": "stdout",
     "output_type": "stream",
     "text": [
      "True positives: 159\n",
      "False positives: 77\n",
      "True negatives: 161\n",
      "False negatives: 98\n"
     ]
    }
   ],
   "source": [
    "true_pos, false_pos, true_neg, false_neg = find_positives_negatives(delta_predict_1_0, delta_real_1_0)\n",
    "print (\"True positives:\", true_pos)\n",
    "print (\"False positives:\", false_pos)\n",
    "print (\"True negatives:\", true_neg)\n",
    "print (\"False negatives:\", false_neg)"
   ]
  },
  {
   "cell_type": "markdown",
   "metadata": {},
   "source": [
    "## Getting the Statistics"
   ]
  },
  {
   "cell_type": "code",
   "execution_count": 42,
   "metadata": {
    "scrolled": false
   },
   "outputs": [
    {
     "name": "stdout",
     "output_type": "stream",
     "text": [
      "Precision: 0.62\n",
      "Recall: 0.553571428571\n",
      "F1 score: 0.584905660377\n",
      "Mean Squared Error: 0.0430756924477\n",
      "0.584905660377\n"
     ]
    }
   ],
   "source": [
    "precision, recall, F1, MSE = calculate_statistics(true_pos, false_pos, true_neg, false_neg, y_predict, Y_test)\n",
    "print \"Precision:\", precision\n",
    "print \"Recall:\", recall\n",
    "print \"F1 score:\", F1\n",
    "print \"Mean Squared Error:\", MSE"
   ]
  }
 ],
 "metadata": {
  "kernelspec": {
   "display_name": "Python 3",
   "language": "python",
   "name": "python3"
  },
  "language_info": {
   "codemirror_mode": {
    "name": "ipython",
    "version": 3
   },
   "file_extension": ".py",
   "mimetype": "text/x-python",
   "name": "python",
   "nbconvert_exporter": "python",
   "pygments_lexer": "ipython3",
   "version": "3.6.7"
  }
 },
 "nbformat": 4,
 "nbformat_minor": 2
}
