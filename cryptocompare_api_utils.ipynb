{
 "cells": [
  {
   "cell_type": "code",
   "execution_count": 10,
   "metadata": {
    "collapsed": true
   },
   "outputs": [],
   "source": [
    "import json\n",
    "import requests\n",
    "import datetime as dt\n",
    "import pandas as pd"
   ]
  },
  {
   "cell_type": "code",
   "execution_count": 65,
   "metadata": {
    "collapsed": true
   },
   "outputs": [],
   "source": [
    "def get_dataframe(**kwarg):\n",
    "    base_url = 'https://min-api.cryptocompare.com/data/histoday?'\n",
    "    post_url = '&'.join([str(a[0]) + '=' + str(a[1]) for a in kwarg.items()])\n",
    "    \n",
    "    res = requests.get(base_url+post_url)\n",
    "    hist = pd.DataFrame(json.loads(res.content)['Data'])\n",
    "\n",
    "    hist = hist.set_index('time')\n",
    "    hist.index = pd.to_datetime(hist.index, unit='s')\n",
    "#     print(base_url+post_url)\n",
    "    \n",
    "    return hist"
   ]
  },
  {
   "cell_type": "code",
   "execution_count": 66,
   "metadata": {},
   "outputs": [
    {
     "name": "stdout",
     "output_type": "stream",
     "text": [
      "https://min-api.cryptocompare.com/data/histoday?fsym=BTC&tsym=USD&limit=30&toTs=1394121600\n"
     ]
    }
   ],
   "source": [
    "ts = int(dt.datetime(2014, 3, 7).timestamp())\n",
    "get_dataframe(fsym='BTC', tsym='USD' ,limit=30, toTs=ts).to_csv('Mt.GOX, Japan, bitcoin, 2014-02-07 to 2014-03-07.csv')"
   ]
  },
  {
   "cell_type": "code",
   "execution_count": 62,
   "metadata": {
    "collapsed": true
   },
   "outputs": [],
   "source": [
    "ts = int(dt.datetime(2016, 9, 1).timestamp())\n",
    "get_dataframe(fsym='BTC', tsym='USD' ,limit=30, toTs=ts).to_csv('(Bitfinex, 72million stolen, but repaid after 8 months).csv')"
   ]
  },
  {
   "cell_type": "code",
   "execution_count": 63,
   "metadata": {
    "collapsed": true
   },
   "outputs": [],
   "source": [
    "ts = int(dt.datetime(2018, 2, 20).timestamp())\n",
    "get_dataframe(fsym='XEM', tsym='USD' ,limit=30, toTs=ts).to_csv('$400 million worth of the NEM cryptocurrency’s XEM tokens.csv')"
   ]
  },
  {
   "cell_type": "code",
   "execution_count": 64,
   "metadata": {
    "collapsed": true
   },
   "outputs": [],
   "source": [
    "ts = int(dt.datetime(2018, 10, 10).timestamp())\n",
    "get_dataframe(fsym='BTC', tsym='USD' ,limit=30, toTs=ts).to_csv('September 14, 2018.csv')"
   ]
  },
  {
   "cell_type": "code",
   "execution_count": null,
   "metadata": {
    "collapsed": true
   },
   "outputs": [],
   "source": []
  }
 ],
 "metadata": {
  "kernelspec": {
   "display_name": "Python 3",
   "language": "python",
   "name": "python3"
  },
  "language_info": {
   "codemirror_mode": {
    "name": "ipython",
    "version": 3
   },
   "file_extension": ".py",
   "mimetype": "text/x-python",
   "name": "python",
   "nbconvert_exporter": "python",
   "pygments_lexer": "ipython3",
   "version": "3.6.1"
  }
 },
 "nbformat": 4,
 "nbformat_minor": 2
}
