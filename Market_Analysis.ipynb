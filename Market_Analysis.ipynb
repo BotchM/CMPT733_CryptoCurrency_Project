{
 "cells": [
  {
   "cell_type": "code",
   "execution_count": 606,
   "metadata": {
    "collapsed": true
   },
   "outputs": [],
   "source": [
    "import pandas as pd\n",
    "import numpy as np\n",
    "import matplotlib.pyplot as plt\n",
    "import seaborn as sns\n",
    "import datetime\n",
    "\n",
    "import warnings\n",
    "warnings.filterwarnings('ignore')\n",
    "\n",
    "import matplotlib.dates as mdates\n",
    "from mpl_finance import candlestick_ohlc"
   ]
  },
  {
   "cell_type": "code",
   "execution_count": 607,
   "metadata": {},
   "outputs": [],
   "source": [
    "import nltk\n",
    "#nltk.download('vader_lexicon')\n",
    "from nltk.sentiment.vader import SentimentIntensityAnalyzer\n",
    "\n",
    "sia = SentimentIntensityAnalyzer()"
   ]
  },
  {
   "cell_type": "markdown",
   "metadata": {},
   "source": [
    "## Build Model"
   ]
  },
  {
   "cell_type": "code",
   "execution_count": 608,
   "metadata": {},
   "outputs": [],
   "source": [
    "# load BTC data\n",
    "\n",
    "import json\n",
    "import requests\n",
    "\n",
    "def get_data_spec(coin, date, time_period,apiKey):\n",
    "    \"\"\" Query the API for 2000 units historical price data starting from \"date\". \"\"\"\n",
    "    url = \"https://min-api.cryptocompare.com/data/{}?fsym={}&tsym=USD&limit=2000&toTs={}&api_key={}\".format(time_period, coin, date,apiKey)\n",
    "    r = requests.get(url)\n",
    "    ipdata = r.json()\n",
    "    return ipdata\n",
    "\n",
    "def get_news_data_spec(category, timestamp, apiKey, language):\n",
    "    \"\"\" Query the API for 2000 units historical price data starting from \"date\". \"\"\"\n",
    "    url = \"https://min-api.cryptocompare.com/data/v2/news/?categories={}&lang={}&lTs={}&api_key={}\".format(category, language, timestamp ,apiKey)\n",
    "    r = requests.get(url)\n",
    "    ipdata = r.json()\n",
    "    return ipdata\n",
    "\n",
    "def get_social_data_spec(coin, date, time_frequency, aggregate, apiKey):\n",
    "    url = \"https://min-api.cryptocompare.com/data/social/coin/histo/{}?coinId={}&aggregate={}&limit=2000&toTs={}&api_key={}\"\\\n",
    "        .format(time_frequency, coin, aggregate,date,apiKey)\n",
    "    r = requests.get(url)\n",
    "    ipdata = r.json()\n",
    "    return ipdata\n",
    "\n",
    "def get_df_spec(from_date, to_date, time_period, coin, apiKey):\n",
    "    \"\"\" Get historical price data between two dates. If further apart than query limit then query multiple times. \"\"\"\n",
    "    date = to_date\n",
    "    holder = []\n",
    "    while date > from_date:\n",
    "        # Now we use the new function to query specific coins\n",
    "        data = get_data_spec(coin, date, time_period,apiKey)\n",
    "        holder.append(pd.DataFrame(data['Data']))\n",
    "        date = data['TimeFrom']\n",
    "    df = pd.concat(holder, axis = 0)\n",
    "    df = df[df['time']>from_date]\n",
    "    df['date/hour'] = pd.to_datetime(df['time'], unit='s') \n",
    "    df.set_index('date/hour', inplace=True)\n",
    "    df.sort_index(ascending=True, inplace=True)\n",
    "    # And just keep the close price, with the column heading as the name of the coin. \n",
    "    #df.rename(columns={'close':coin}, inplace=True)\n",
    "    return df\n",
    "\n",
    "def get_social_df_spec(from_date, to_date, time_frequency, coin, aggregate, apiKey):\n",
    "    \"\"\" Get historical price data between two dates. If further apart than query limit then query multiple times. \"\"\"\n",
    "    date = to_date\n",
    "    holder = []\n",
    "    while date > from_date:\n",
    "        # Now we use the new function to query specific coins\n",
    "        data = get_social_data_spec(coin, date, time_frequency, aggregate, apiKey)\n",
    "        data_df = pd.DataFrame(data['Data'])\n",
    "        holder.append(data_df)\n",
    "        date = data_df['time'].min()\n",
    "    df = pd.concat(holder, axis = 0)\n",
    "    df = df[df['time']>from_date]\n",
    "    #df['date/hour'] = pd.to_datetime(df['time'], unit='s') \n",
    "    df.set_index('time', inplace=True)\n",
    "    df.sort_index(ascending=True, inplace=True)\n",
    "    # And just keep the close price, with the column heading as the name of the coin. \n",
    "    #df.rename(columns={'close':coin}, inplace=True)\n",
    "    return df"
   ]
  },
  {
   "cell_type": "code",
   "execution_count": 609,
   "metadata": {},
   "outputs": [],
   "source": [
    "# # parameters\n",
    "fromdate = int(datetime.date(2017,01,01).strftime(\"%s\"))\n",
    "todate = datetime.date(2019,04,01).strftime(\"%s\") #today\n",
    "coin = 'BTC'\n",
    "coinID = '1182'\n",
    "timeperiod = 'histoday'\n",
    "timefrequency = 'day'\n",
    "agg = 1\n",
    "apiKey = 'bf7c04a024b244dea99e95798fa8e102b7c9738c0933795253c2c8f39f2d160c'\n",
    "cat = 'BTC'\n",
    "lang = 'EN'\n",
    "\n",
    "coin_price = get_df_spec(fromdate, todate, timeperiod, coin, apiKey)"
   ]
  },
  {
   "cell_type": "code",
   "execution_count": 610,
   "metadata": {},
   "outputs": [],
   "source": [
    "def price_to_return(df, target_col):\n",
    "    # get price change\n",
    "    s_test = df[target_col]\n",
    "    log_return = np.log(s_test/s_test.shift())\n",
    "    df['price change'] = log_return\n",
    "\n",
    "    # feature extraction from OHLC\n",
    "    # '''high/open'''\n",
    "    df['high/open'] = np.log(df['high']/df['open'])\n",
    "    # '''low/open'''\n",
    "    df['low/open'] = np.log(df['low']/df['open'])\n",
    "    # '''close/high'''\n",
    "    df['close/high'] = np.log(df['close']/df['high'])\n",
    "    # '''close/low'''\n",
    "    df['close/low'] = np.log(df['close']/df['low'])\n",
    "    df = df.drop(['close','high','low','open','volumefrom'],axis=1)\n",
    "    df.rename(columns = {'volumeto':'volumn'},inplace=True)\n",
    "    df = df.dropna()\n",
    "    return df\n",
    "\n",
    "coin_return = price_to_return(coin_price,'close')\n"
   ]
  },
  {
   "cell_type": "markdown",
   "metadata": {},
   "source": [
    "## NEWS DATA"
   ]
  },
  {
   "cell_type": "code",
   "execution_count": 611,
   "metadata": {},
   "outputs": [],
   "source": [
    "news = pd.read_csv('/Users/michaelyang/PycharmProjects/all_news.csv')\n",
    "news['time'] = news['published_on'].apply(lambda x: datetime.datetime.fromtimestamp(x).strftime(\"%Y-%m-%d\"))\n",
    "news = news.set_index('time')\n",
    "\n",
    "# get vader sentiment score on news content\n",
    "news['vader_polarity'] = news['news_content'].apply(lambda x: sia.polarity_scores(x))\n",
    "news['vader_compound'] = news['vader_polarity'].apply(lambda x: x['compound'])\n",
    "news['vader_neg'] = news['vader_polarity'].apply(lambda x: x['neg'])\n",
    "news['vader_neu'] = news['vader_polarity'].apply(lambda x: x['neu'])\n",
    "news['vader_pos'] = news['vader_polarity'].apply(lambda x: x['pos'])"
   ]
  },
  {
   "cell_type": "code",
   "execution_count": 612,
   "metadata": {},
   "outputs": [],
   "source": [
    "news = news[['id','published_on','vader_compound','vader_neg','vader_neu','vader_pos']]"
   ]
  },
  {
   "cell_type": "code",
   "execution_count": 613,
   "metadata": {},
   "outputs": [],
   "source": [
    "def get_ticker_sentiment(df,news):\n",
    "    holder = []\n",
    "    for i in range(df.shape[0]):\n",
    "        to_t = df.time[i]\n",
    "        from_t = to_t - 86400\n",
    "        news_interval = news[(news['published_on'] >= from_t) & (news['published_on'] <= to_t)]\n",
    "        score = news_interval.mean()[-4:]\n",
    "        score['time'] = to_t\n",
    "        holder.append(score)\n",
    "    score_df = pd.concat(holder,axis=1).T\n",
    "    score_df['time'] = score_df['time'].apply(lambda x: int(x))\n",
    "    complete_df = pd.merge(df,score_df,on='time')\n",
    "    return complete_df"
   ]
  },
  {
   "cell_type": "code",
   "execution_count": 615,
   "metadata": {
    "collapsed": true
   },
   "outputs": [],
   "source": [
    "coin_return_news = get_ticker_sentiment(coin_return,news)"
   ]
  },
  {
   "cell_type": "markdown",
   "metadata": {},
   "source": [
    "## SOCIAL DATA"
   ]
  },
  {
   "cell_type": "code",
   "execution_count": 616,
   "metadata": {},
   "outputs": [],
   "source": [
    "coin_social = get_social_df_spec(fromdate,todate,timefrequency,coinID,agg,apiKey)"
   ]
  },
  {
   "cell_type": "code",
   "execution_count": 617,
   "metadata": {},
   "outputs": [],
   "source": [
    "def get_ticker_social(df,coin_social):\n",
    "    coin_social = coin_social.pct_change()\n",
    "    coin_social = coin_social.add(1)\n",
    "    coin_social = np.log(coin_social)\n",
    "    coin_social.reset_index()\n",
    "    complete_df = pd.merge(df,coin_social,on='time')\n",
    "    return complete_df\n"
   ]
  },
  {
   "cell_type": "code",
   "execution_count": 618,
   "metadata": {},
   "outputs": [],
   "source": [
    "coin_complete = get_ticker_social(coin_return_news,coin_social)\n",
    "coin_complete['time'] = pd.to_datetime(coin_complete['time'], unit='s')\n",
    "coin_complete['time'] = coin_complete['time'].dt.date\n",
    "coin_complete.set_index('time', inplace=True)"
   ]
  },
  {
   "cell_type": "markdown",
   "metadata": {},
   "source": [
    "## IMPUTE NULL VALUE"
   ]
  },
  {
   "cell_type": "code",
   "execution_count": 619,
   "metadata": {},
   "outputs": [
    {
     "data": {
      "text/plain": [
       "False"
      ]
     },
     "execution_count": 619,
     "metadata": {},
     "output_type": "execute_result"
    }
   ],
   "source": [
    "coin_complete = coin_complete.replace([np.inf, -np.inf], np.nan)\n",
    "coin_complete = coin_complete.fillna(0)\n",
    "np.any(np.isinf(coin_complete))"
   ]
  },
  {
   "cell_type": "markdown",
   "metadata": {},
   "source": [
    "## Normalize"
   ]
  },
  {
   "cell_type": "code",
   "execution_count": 620,
   "metadata": {
    "collapsed": false
   },
   "outputs": [],
   "source": [
    "from sklearn.preprocessing import MaxAbsScaler\n",
    "\n",
    "# def normalized_data(df):\n",
    "#     min_max_scaler = MinMaxScaler()\n",
    "#     min_max_scaler.fit_transform(df)\n",
    "    \n",
    "max_abs_scaler = MaxAbsScaler()\n",
    "temp = max_abs_scaler.fit_transform(coin_complete)\n",
    "temp = pd.DataFrame(temp,columns=coin_complete.columns)\n",
    "coin_complete = temp.set_index(coin_complete.index)"
   ]
  },
  {
   "cell_type": "markdown",
   "metadata": {},
   "source": [
    "## Time Series to Supervised Learning"
   ]
  },
  {
   "cell_type": "code",
   "execution_count": 645,
   "metadata": {},
   "outputs": [],
   "source": [
    "sequence_length = 10\n",
    "window = sequence_length -1\n",
    "\n",
    "def time_series_to_supervised(df,sequence_length, split_line):\n",
    "\n",
    "    temp = df.values\n",
    "    temp = temp.tolist()\n",
    "    result = []\n",
    "    for index in range(len(temp) - sequence_length):\n",
    "        result.append(temp[index: index + sequence_length])\n",
    "    data = np.array(result)\n",
    "    \n",
    "    # get x and y\n",
    "    x = data[:, :-1]\n",
    "    y = data[:, -1]\n",
    "    y = y[:, 1] #second column is the price change, which is what we want to predict\n",
    "    \n",
    "    # split train and test\n",
    "    split_line = round(split_line*df.shape[0])\n",
    "    x_train = x[:int(split_line),:]\n",
    "    y_train = y[:int(split_line)]\n",
    "    \n",
    "    x_test =  x[int(split_line):,:]\n",
    "    y_test = y[int(split_line):]\n",
    "    \n",
    "    return x_train,y_train,x_test,y_test\n"
   ]
  },
  {
   "cell_type": "code",
   "execution_count": 669,
   "metadata": {},
   "outputs": [
    {
     "name": "stdout",
     "output_type": "stream",
     "text": [
      "((655, 9, 42), (655,), (154, 9, 42), (154,))\n"
     ]
    }
   ],
   "source": [
    "X_train, Y_train, X_test, Y_test = time_series_to_supervised(coin_complete,10,0.8)\n",
    "print(X_train.shape, Y_train.shape, X_test.shape, Y_test.shape)"
   ]
  },
  {
   "cell_type": "code",
   "execution_count": 668,
   "metadata": {
    "collapsed": false
   },
   "outputs": [
    {
     "data": {
      "text/plain": [
       "[<matplotlib.lines.Line2D at 0x1a42b16c50>]"
      ]
     },
     "execution_count": 668,
     "metadata": {},
     "output_type": "execute_result"
    },
    {
     "data": {
      "image/png": "[encoded data removed]",
      "text/plain": [
       "<Figure size 432x288 with 1 Axes>"
      ]
     },
     "metadata": {},
     "output_type": "display_data"
    }
   ],
   "source": [
    "% matplotlib inline\n",
    "temp = np.insert(Y_test,0,1)\n",
    "a = temp.cumsum()\n",
    "plt.plot(a)"
   ]
  },
  {
   "cell_type": "code",
   "execution_count": 672,
   "metadata": {},
   "outputs": [
    {
     "data": {
      "text/plain": [
       "-0.10779177407785011"
      ]
     },
     "execution_count": 672,
     "metadata": {},
     "output_type": "execute_result"
    }
   ],
   "source": [
    ""
   ]
  },
  {
   "cell_type": "markdown",
   "metadata": {},
   "source": [
    "## Build Model"
   ]
  },
  {
   "cell_type": "code",
   "execution_count": 680,
   "metadata": {},
   "outputs": [],
   "source": [
    "## Keras for deep learning\n",
    "from tensorflow.keras.layers import Dense, Activation, Dropout\n",
    "from tensorflow.keras.layers import LSTM\n",
    "from tensorflow.keras.layers import Bidirectional\n",
    "from tensorflow.keras.models import Sequential\n",
    "\n",
    "# import os\n",
    "# os.environ['KERAS_BACKEND']='tensorflow'\n",
    "\n",
    "def build_model(input_shape, hidden_size,dropout_value,activation_function, loss_function, optimizer):\n",
    "    \n",
    "    #Create a Sequential model using Keras\n",
    "    model = Sequential()\n",
    "\n",
    "    #First recurrent layer with dropout\n",
    "    model.add(Bidirectional(LSTM(hidden_size, return_sequences=True), input_shape=(input_shape[1], input_shape[2]),))\n",
    "    model.add(Dropout(dropout_value))\n",
    "\n",
    "    #Second recurrent layer with dropout\n",
    "    model.add(Bidirectional(LSTM((hidden_size), return_sequences=True)))\n",
    "    model.add(Dropout(dropout_value))\n",
    "\n",
    "    #Third recurrent layer\n",
    "    model.add(Bidirectional(LSTM(hidden_size, return_sequences=False)))\n",
    "\n",
    "    #Output layer (returns the predicted value)\n",
    "    model.add(Dense(units=1))\n",
    "    \n",
    "    #Set activation function\n",
    "    model.add(Activation(activation_function))\n",
    "\n",
    "    #Set loss function and optimizer\n",
    "    model.compile(loss=loss_function, optimizer=optimizer)\n",
    "    \n",
    "    return model"
   ]
  },
  {
   "cell_type": "code",
   "execution_count": 681,
   "metadata": {},
   "outputs": [],
   "source": [
    "import time\n",
    "import math\n",
    "\n",
    "def fit_model(model, X_train, Y_train, batch_num, num_epoch, val_split):\n",
    "    \"\"\"\n",
    "    Fits the model to the training data\n",
    "    \n",
    "    Arguments:\n",
    "    model -- The previously initalized 3 layer Recurrent Neural Network\n",
    "    X_train -- A tensor of shape (2400, 49, 35) that represents the x values of the training data\n",
    "    Y_train -- A tensor of shape (2400,) that represents the y values of the training data\n",
    "    batch_num -- An integer representing the batch size to be used, in this case 1024\n",
    "    num_epoch -- An integer defining the number of epochs to be run, in this case 100\n",
    "    val_split -- A decimal representing the proportion of training data to be used as validation data\n",
    "    \n",
    "    Returns:\n",
    "    model -- The 3 layer Recurrent Neural Network that has been fitted to the training data\n",
    "    training_time -- An integer representing the amount of time (in seconds) that the model was training\n",
    "    \"\"\"\n",
    "    #Record the time the model starts training\n",
    "    start = time.time()\n",
    "\n",
    "    #Train the model on X_train and Y_train\n",
    "    model.fit(X_train, Y_train, batch_size= batch_num, nb_epoch=num_epoch, validation_split= val_split)\n",
    "\n",
    "    #Get the time it took to train the model (in seconds)\n",
    "    training_time = int(math.floor(time.time() - start))\n",
    "    return model, training_time"
   ]
  },
  {
   "cell_type": "markdown",
   "metadata": {},
   "source": [
    "## TEST MODEL"
   ]
  },
  {
   "cell_type": "code",
   "execution_count": 682,
   "metadata": {},
   "outputs": [],
   "source": [
    "def test_model(model, X_test, Y_test):\n",
    "\n",
    "    #Test the model on X_Test\n",
    "    y_predict = model.predict(X_test)\n",
    "    \n",
    "    # put 1 as the first element of the array as baseline\n",
    "    y_predict_trace = np.insert(y_predict,0,1)\n",
    "    Y_test_trace = np.insert(Y_test,0,1)\n",
    "    \n",
    "    # get trace\n",
    "    # since we are using log return, we use cumsum to recover the trace\n",
    "    y_predict_trace = y_predict_trace.cumsum()\n",
    "    Y_test_trace = Y_test_trace.cumsum()\n",
    "    \n",
    "    #Plot of the predicted prices versus the real prices\n",
    "    fig = plt.figure(figsize=(10,5))\n",
    "    ax = fig.add_subplot(111)\n",
    "    ax.set_title(\"Bitcoin Price Over Time\")\n",
    "    plt.plot(y_predict_trace, color = 'green', label = 'Predicted Price')\n",
    "    plt.plot(Y_test_trace, color = 'red', label = 'Real Price')\n",
    "    ax.set_ylabel(\"Price (USD)\")\n",
    "    ax.set_xlabel(\"Time (Days)\")\n",
    "    ax.legend()\n",
    "    \n",
    "    return y_predict, fig"
   ]
  },
  {
   "cell_type": "markdown",
   "metadata": {},
   "source": [
    "## BINARY PRICE TRANSFORMATION\n"
   ]
  },
  {
   "cell_type": "code",
   "execution_count": 683,
   "metadata": {},
   "outputs": [],
   "source": [
    "def binary_price(y_predict, y_real):\n",
    "    \"\"\"\n",
    "    Converts percent change to a binary 1 or 0, where 1 is an increase and 0 is a decrease/no change\n",
    "    \n",
    "    Arguments:\n",
    "    delta_predict -- A tensor of shape (267, 1) that represents the predicted percent change in price\n",
    "    delta_real -- A tensor of shape (267, 1) that represents the real percent change in price\n",
    "    \n",
    "    Returns:\n",
    "    delta_predict_1_0 -- A tensor of shape (267, 1) that represents the binary version of delta_predict\n",
    "    delta_real_1_0 -- A tensor of shape (267, 1) that represents the binary version of delta_real\n",
    "    \"\"\"\n",
    "    #Empty arrays where a 1 represents an increase in price and a 0 represents a decrease in price\n",
    "    y_predict_1_0 = np.empty(y_predict.shape)\n",
    "    y_real_1_0 = np.empty(y_real.shape)\n",
    "\n",
    "    #If the change in price is greater than zero, store it as a 1\n",
    "    #If the change in price is less than zero, store it as a 0\n",
    "    for i in range(y_predict.shape[0]):\n",
    "        if y_predict[i] > 0:\n",
    "            y_predict_1_0[i] = 1\n",
    "        else:\n",
    "            y_predict_1_0[i] = 0\n",
    "    for i in range(y_real.shape[0]):\n",
    "        if y_real[i] > 0:\n",
    "            y_real_1_0[i] = 1\n",
    "        else:\n",
    "            y_real_1_0[i] = 0    \n",
    "\n",
    "    return y_predict_1_0, y_real_1_0"
   ]
  },
  {
   "cell_type": "code",
   "execution_count": 684,
   "metadata": {},
   "outputs": [],
   "source": [
    "def find_positives_negatives(y_predict_1_0, y_real_1_0):\n",
    "    \"\"\"\n",
    "    Finding the number of false positives, false negatives, true positives, true negatives\n",
    "    \n",
    "    Arguments: \n",
    "    delta_predict_1_0 -- A tensor of shape (267, 1) that represents the binary version of delta_predict\n",
    "    delta_real_1_0 -- A tensor of shape (267, 1) that represents the binary version of delta_real\n",
    "    \n",
    "    Returns:\n",
    "    true_pos -- An integer that represents the number of true positives achieved by the model\n",
    "    false_pos -- An integer that represents the number of false positives achieved by the model\n",
    "    true_neg -- An integer that represents the number of true negatives achieved by the model\n",
    "    false_neg -- An integer that represents the number of false negatives achieved by the model\n",
    "    \"\"\"\n",
    "    #Finding the number of false positive/negatives and true positives/negatives\n",
    "    true_pos = 0\n",
    "    false_pos = 0\n",
    "    true_neg = 0\n",
    "    false_neg = 0\n",
    "    for i in range(y_real_1_0.shape[0]):\n",
    "        real = y_real_1_0[i]\n",
    "        predicted = y_predict_1_0[i]\n",
    "        if real == 1:\n",
    "            if predicted == 1:\n",
    "                true_pos += 1\n",
    "            else:\n",
    "                false_neg += 1\n",
    "        elif real == 0:\n",
    "            if predicted == 0:\n",
    "                true_neg += 1\n",
    "            else:\n",
    "                false_pos += 1\n",
    "    return true_pos, false_pos, true_neg, false_neg"
   ]
  },
  {
   "cell_type": "code",
   "execution_count": 685,
   "metadata": {},
   "outputs": [],
   "source": [
    "from sklearn.metrics import mean_squared_error\n",
    "\n",
    "def calculate_statistics(true_pos, false_pos, true_neg, false_neg, y_predict, Y_test):\n",
    "    \"\"\"\n",
    "    Calculate various statistics to assess performance\n",
    "    \n",
    "    Arguments:\n",
    "    true_pos -- An integer that represents the number of true positives achieved by the model\n",
    "    false_pos -- An integer that represents the number of false positives achieved by the model\n",
    "    true_neg -- An integer that represents the number of true negatives achieved by the model\n",
    "    false_neg -- An integer that represents the number of false negatives achieved by the model\n",
    "    Y_test -- A tensor of shape (267, 1) that represents the normalized y values of the testing data\n",
    "    y_predict -- A tensor of shape (267, 1) that represents the normalized y values of the model's predictions\n",
    "    \n",
    "    Returns:\n",
    "    precision -- How often the model gets a true positive compared to how often it returns a positive\n",
    "    recall -- How often the model gets a true positive compared to how often is hould have gotten a positive\n",
    "    F1 -- The weighted average of recall and precision\n",
    "    Mean Squared Error -- The average of the squares of the differences between predicted and real values\n",
    "    \"\"\"\n",
    "    precision = float(true_pos) / (true_pos + false_pos)\n",
    "    recall = float(true_pos) / (true_pos + false_neg)\n",
    "    F1 = float(2 * precision * recall) / (precision + recall)\n",
    "    #Get Mean Squared Error\n",
    "    MSE = mean_squared_error(y_predict.flatten(), Y_test.flatten())\n",
    "\n",
    "    return precision, recall, F1, MSE"
   ]
  },
  {
   "cell_type": "markdown",
   "metadata": {},
   "source": [
    "# ACTUAL TRAIN/TEST/EVALUATION"
   ]
  },
  {
   "cell_type": "code",
   "execution_count": 692,
   "metadata": {},
   "outputs": [
    {
     "name": "stdout",
     "output_type": "stream",
     "text": [
      "((655, 9, 42), (655,), (154, 9, 42), (154,))\n"
     ]
    }
   ],
   "source": [
    "#parameters\n",
    "sequence_length = 10\n",
    "window = sequence_length -1\n",
    "hidden_size = 20\n",
    "dropout_rate = 0.2\n",
    "activation = 'linear'\n",
    "loss = 'mse'\n",
    "optimizer = 'adam'\n",
    "batch = 1024\n",
    "epoch = 20\n",
    "val_split = 0.1\n",
    "\n",
    "#data\n",
    "coin_data = coin_complete\n",
    "\n",
    "#to_supervised\n",
    "X_train, Y_train, X_test, Y_test = time_series_to_supervised(coin_data,10,0.8)\n",
    "print(X_train.shape, Y_train.shape, X_test.shape, Y_test.shape)"
   ]
  },
  {
   "cell_type": "code",
   "execution_count": 693,
   "metadata": {},
   "outputs": [
    {
     "name": "stdout",
     "output_type": "stream",
     "text": [
      "_________________________________________________________________\nLayer (type)                 Output Shape              Param #   \n=================================================================\nbidirectional_9 (Bidirection (None, 9, 40)             10080     \n_________________________________________________________________\ndropout_6 (Dropout)          (None, 9, 40)             0         \n_________________________________________________________________\nbidirectional_10 (Bidirectio (None, 9, 40)             9760      \n_________________________________________________________________\ndropout_7 (Dropout)          (None, 9, 40)             0         \n_________________________________________________________________\nbidirectional_11 (Bidirectio (None, 40)                9760      \n_________________________________________________________________\ndense_3 (Dense)              (None, 1)                 41        \n_________________________________________________________________\nactivation_3 (Activation)    (None, 1)                 0         \n=================================================================\nTotal params: 29,641\nTrainable params: 29,641\nNon-trainable params: 0\n_________________________________________________________________\nNone\n"
     ]
    }
   ],
   "source": [
    "# initialize model\n",
    "coin_model = build_model(X_train.shape,hidden_size,dropout_rate, activation,loss,optimizer)\n",
    "print (coin_model.summary())"
   ]
  },
  {
   "cell_type": "code",
   "execution_count": 694,
   "metadata": {},
   "outputs": [
    {
     "name": "stderr",
     "output_type": "stream",
     "text": [
      "WARNING:tensorflow:The `nb_epoch` argument in `fit` has been renamed `epochs`.\n"
     ]
    },
    {
     "name": "stdout",
     "output_type": "stream",
     "text": [
      "Train on 589 samples, validate on 66 samples\n"
     ]
    },
    {
     "name": "stderr",
     "output_type": "stream",
     "text": [
      "WARNING:tensorflow:From /Users/michaelyang/.conda/envs/CryptoCurrency_Project/lib/python2.7/site-packages/tensorflow/python/ops/math_ops.py:3066: to_int32 (from tensorflow.python.ops.math_ops) is deprecated and will be removed in a future version.\nInstructions for updating:\nUse tf.cast instead.\n"
     ]
    },
    {
     "name": "stdout",
     "output_type": "stream",
     "text": [
      "Epoch 1/20\n"
     ]
    }
   ],
   "source": [
    "model, training_time = fit_model(coin_model,X_train,Y_train,batch,epoch, val_split)\n",
    "print (\"Training time\", training_time, \"seconds\")"
   ]
  }
 ],
 "metadata": {
  "kernelspec": {
   "display_name": "Python 2",
   "language": "python",
   "name": "python2"
  },
  "language_info": {
   "codemirror_mode": {
    "name": "ipython",
    "version": 2
   },
   "file_extension": ".py",
   "mimetype": "text/x-python",
   "name": "python",
   "nbconvert_exporter": "python",
   "pygments_lexer": "ipython2",
   "version": "2.7.6"
  }
 },
 "nbformat": 4,
 "nbformat_minor": 0
}
